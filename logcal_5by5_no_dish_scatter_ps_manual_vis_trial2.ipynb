{
 "cells": [
  {
   "cell_type": "code",
   "execution_count": 1,
   "metadata": {},
   "outputs": [],
   "source": [
    "import h5py\n",
    "import matplotlib.pyplot as plt\n",
    "import numpy as np\n",
    "import pylab\n",
    "import scipy as sp\n",
    "from matplotlib.colors import LogNorm\n",
    "import matplotlib.patches as mpatches\n",
    "from drift.core import manager\n",
    "from scipy.sparse import lil_matrix\n",
    "import sys\n",
    "sys.path.insert(0,'/home/zahra/PIPELINE')\n",
    "from cora.util import hputil\n",
    "from astropy.stats import gaussian_fwhm_to_sigma\n",
    "from hirax_transfer.beams import separations\n",
    "import healpy as hp\n",
    "from cora.core import skysim\n",
    "from cora.foreground import gaussianfg, galaxy\n",
    "from log_red_cal_fewer_redblocks import Logcal_solutions, A_matrix, colour_scatterplot, Bls_counts, Scatterplot, log\n",
    "from cora.foreground import gaussianfg, galaxy\n",
    "from cora.util import coord\n",
    "from drift.core import visibility\n",
    "sys.path.insert(0,'/home/zahra/hirax_tools/')\n",
    "from hirax_tools import array_config"
   ]
  },
  {
   "cell_type": "code",
   "execution_count": 2,
   "metadata": {},
   "outputs": [
    {
     "name": "stdout",
     "output_type": "stream",
     "text": [
      "Product directory: /home/zahra/PIPELINE/example_5by5_kl_nodishscatter_lmax_200/bt_matrices\n"
     ]
    }
   ],
   "source": [
    "time_channel=400\n",
    "Ndish=25\n",
    "Nbls=Ndish*(Ndish-1)/2\n",
    "\n",
    "m=manager.ProductManager.from_config('/home/zahra/PIPELINE/example_5by5_kl_nodishscatter_lmax_200/prod_params_custom.yaml')\n",
    "correlation_arr, sum_counts, arranged_corr_counts, arranged_corr_unique_bls = Bls_counts(m)\n",
    "\n",
    "#m=manager.ProductManager.from_config('/home/zahra/PIPELINE/example_8by8/prod_params_custom.yaml')\n",
    "\n",
    "t=m.telescope\n",
    "x=t.feedpositions[:,0] #these are x and y positions not x and y polarizations\n",
    "y=t.feedpositions[:,1]"
   ]
  },
  {
   "cell_type": "code",
   "execution_count": 3,
   "metadata": {},
   "outputs": [],
   "source": [
    "runs=10\n",
    "time_channel=400\n",
    "sigma = 0.001\n",
    "sky = 1."
   ]
  },
  {
   "cell_type": "code",
   "execution_count": 4,
   "metadata": {},
   "outputs": [
    {
     "name": "stdout",
     "output_type": "stream",
     "text": [
      "128\n",
      "[2.0943951 0.       ]\n",
      "6.277049384028044\n"
     ]
    }
   ],
   "source": [
    "lmax = t.lmax\n",
    "mmax = t.mmax\n",
    "nside = 128\n",
    "print nside\n",
    "angpos = hputil.ang_positions(nside)\n",
    "zenith = t.zenith #same as np.radians(120)\n",
    "frequencies = t.frequencies\n",
    "print zenith\n",
    "print angpos.max()"
   ]
  },
  {
   "cell_type": "code",
   "execution_count": 5,
   "metadata": {},
   "outputs": [
    {
     "name": "stdout",
     "output_type": "stream",
     "text": [
      "[0.00000000e+000 0.00000000e+000 0.00000000e+000 ... 1.61922971e-192\n",
      " 1.61922971e-192 3.05744225e-189]\n"
     ]
    }
   ],
   "source": [
    "wavelength = (3.e8)/(600.*10.**6)\n",
    "fwhm = 1.*wavelength/6.\n",
    "sigma_beam = gaussian_fwhm_to_sigma*fwhm\n",
    "seps = separations(angpos, zenith)\n",
    "beammodel = np.exp(-seps**2/2/sigma_beam**2)\n",
    "print beammodel"
   ]
  },
  {
   "cell_type": "code",
   "execution_count": 6,
   "metadata": {},
   "outputs": [
    {
     "name": "stdout",
     "output_type": "stream",
     "text": [
      "(180452,)\n"
     ]
    },
    {
     "data": {
      "text/plain": [
       "array([0.00451053, 0.00451053, 0.99997965, ..., 0.00451053, 0.00451053,\n",
       "       0.00451053])"
      ]
     },
     "execution_count": 6,
     "metadata": {},
     "output_type": "execute_result"
    }
   ],
   "source": [
    "sph_arr = coord.sph_to_cart(angpos)\n",
    "print np.unique(sph_arr[:,:2]).shape\n",
    "sph_arr[sph_arr>0]"
   ]
  },
  {
   "cell_type": "code",
   "execution_count": 7,
   "metadata": {},
   "outputs": [
    {
     "name": "stdout",
     "output_type": "stream",
     "text": [
      "[6.123234e-17 1.000000e+00 6.123234e-17]\n",
      "[0.5       0.        0.8660254]\n"
     ]
    }
   ],
   "source": [
    "uhatc, vhatc = visibility.uv_plane_cart(zenith)\n",
    "print uhatc\n",
    "print vhatc"
   ]
  },
  {
   "cell_type": "code",
   "execution_count": 8,
   "metadata": {},
   "outputs": [],
   "source": [
    "HAC = array_config.HIRAXArrayConfig.from_n_elem_compact(Ndish, 6.)\n",
    "\n",
    "\n",
    "#uv = np.resize(np.repeat(3, sph_arr.shape[0]),(3, )\n",
    "#print uv.shape\n",
    "\n",
    "vis_all = np.array([])\n",
    "fringes_all = np.array([])\n",
    "\n",
    "for i in correlation_arr:\n",
    "    dish_0, dish_1 = i\n",
    "    bl_ind = [np.int(dish_0), np.int(dish_1)]\n",
    "    #v_coord, u_coord, _ = HAC.uvw_coords(frequencies[0],bl_ind)\n",
    "    u_coord = (x[bl_ind[0]] - x[bl_ind[1]])/wavelength\n",
    "    v_coord = (y[bl_ind[0]] - y[bl_ind[1]])/wavelength\n",
    "    uv = u_coord * uhatc + v_coord * vhatc\n",
    "    #print np.inner(sph_arr[0], uv), 'print '\n",
    "    #print np.exp(np.inner(sph_arr[0], uv)), 'exp'\n",
    "    fringes_ind = np.exp(1j*2*np.pi*np.sum(np.inner(np.abs(sph_arr), np.abs(uv))))\n",
    "    #print sph_arr.shape\n",
    "    #print uv\n",
    "    #fringes_ind = np.exp(1j*2*np.pi*np.sum(np.abs(np.inner(sph_arr, uv))))  \n",
    "    #fringes_ind = np.exp(1j*2*np.pi*np.sum(np.inner(sph_arr, np.abs(uv))))\n",
    "    vis_ind = np.sum(beammodel**2*fringes_ind*sky)\n",
    "    vis_all = np.append(vis_all, np.round(vis_ind, 3))\n",
    "    fringes_all = np.append(fringes_all, fringes_ind)"
   ]
  },
  {
   "cell_type": "code",
   "execution_count": 9,
   "metadata": {},
   "outputs": [],
   "source": [
    "vis_ = vis_all\n",
    "\n",
    "vis_new = np.zeros(300, dtype= 'complex')\n",
    "vis_new[:188] += vis_[:188]\n",
    "\n",
    "vis_new[188:196] += vis_[188:196]\n",
    "vis_new[196:204] += vis_[204:212]\n",
    "vis_new[204:212] += vis_[196:204]\n",
    "vis_new[212:220] += vis_[212:220]\n",
    "\n",
    "vis_new[220:226] += vis_[220:226]\n",
    "vis_new[226:232] += vis_[232:238]\n",
    "vis_new[232:238] += vis_[226:232]\n",
    "vis_new[238:244] += vis_[238:244]\n",
    "\n",
    "vis_new[244:254] += vis_[244:254]\n",
    "\n",
    "vis_new[254:258] += vis_[254:258]\n",
    "vis_new[258:262] += vis_[262:266]\n",
    "vis_new[262:266] += vis_[258:262]\n",
    "vis_new[266:270] += vis_[266:270]\n",
    "\n",
    "vis_new[270:274] += vis_[270:274]\n",
    "vis_new[274:278] += vis_[274:278]\n",
    "\n",
    "vis_new[278:281] += vis_[278:281]\n",
    "vis_new[281:284] += vis_[284:287]\n",
    "vis_new[284:287] += vis_[281:284]\n",
    "vis_new[287:290] += vis_[287:290]\n",
    "\n",
    "vis_new[290:292] += vis_[290:292]\n",
    "vis_new[292:294] += vis_[294:296]\n",
    "vis_new[294:296] += vis_[292:294]\n",
    "vis_new[296:298] += vis_[296:298]\n",
    "\n",
    "vis_new[298:299] += vis_[298:299]\n",
    "vis_new[299:300] += vis_[299:300]\n"
   ]
  },
  {
   "cell_type": "code",
   "execution_count": 10,
   "metadata": {},
   "outputs": [
    {
     "name": "stdout",
     "output_type": "stream",
     "text": [
      "[-61.539 +0.585j -58.895+17.857j -56.309+24.833j -54.202-29.147j\n",
      " -43.826-43.205j -38.292-48.178j -28.889+54.34j  -22.12 +57.429j\n",
      " -15.028+59.679j  -0.293-61.541j   7.136-61.127j  14.46 -59.819j\n",
      "  18.137+58.809j  25.101+56.191j  31.698+52.751j  37.832+48.54j\n",
      "  43.413-43.62j   48.36 -38.063j  52.6  -31.949j  54.477+28.63j\n",
      "  56.071-25.368j  57.534+21.847j  59.75 +14.745j  61.092 +7.427j]\n"
     ]
    }
   ],
   "source": [
    "print np.unique(vis_new)"
   ]
  },
  {
   "cell_type": "code",
   "execution_count": 11,
   "metadata": {},
   "outputs": [],
   "source": [
    "arranged_corr_counts = np.load('arranged_corr_counts_5by5_24_red_blocks.npy')\n",
    "lims = np.append(0, np.cumsum(arranged_corr_counts))\n",
    "\n",
    "arranged_corr_unique_bls = np.load('arranged_corr_unique_bls_5by5_24_red_blocks.npy')\n",
    "correlation_arr = np.load('corr_arr_5by5_24_red_blocks.npy')"
   ]
  },
  {
   "cell_type": "code",
   "execution_count": 12,
   "metadata": {},
   "outputs": [],
   "source": [
    "def Measured_vis(sigma):\n",
    "    mu = 0  \n",
    "    N_real=np.random.normal(mu, sigma, Nbls)\n",
    "    N_imag=np.random.normal(mu, sigma, Nbls)\n",
    "    N_comp=np.array([])\n",
    "    for i in range(len(N_real)):\n",
    "        N_comp=np.append(N_comp,complex(N_real[i],N_imag[i]))\n",
    "    meas_vis=vis_new+N_comp\n",
    "    return meas_vis\n",
    "\n",
    "meas_vis=Measured_vis(sigma)"
   ]
  },
  {
   "cell_type": "code",
   "execution_count": 13,
   "metadata": {},
   "outputs": [],
   "source": [
    "rg_2=h5py.File('/home/zahra/PIPELINE/example_5by5_kl_nodishscatter_lmax_200/draco_synthesis_no_fluc/rand_gains/sig_2.h5','r')\n",
    "rg = rg_2['gain'][0,:,time_channel]\n",
    "gain=rg[:Ndish]"
   ]
  },
  {
   "cell_type": "code",
   "execution_count": 14,
   "metadata": {},
   "outputs": [],
   "source": [
    "x_true_real = Logcal_solutions(m,vis_new,vis_new, gain,meas_vis, sigma)[2]\n"
   ]
  },
  {
   "cell_type": "code",
   "execution_count": 15,
   "metadata": {},
   "outputs": [],
   "source": [
    "gg=np.zeros((runs,Ndish))\n",
    "for ind_run in range(runs):\n",
    "    meas_vis = Measured_vis(sigma)    \n",
    "    gg[ind_run,:] = Logcal_solutions(m,vis_new,vis_new, gain,meas_vis, sigma)[0][:Ndish]  #5 for manual noise, 8 for gaussian noise \n"
   ]
  },
  {
   "cell_type": "code",
   "execution_count": 16,
   "metadata": {},
   "outputs": [
    {
     "name": "stdout",
     "output_type": "stream",
     "text": [
      "[-3.22442073e-11 -1.13413168e-10 -6.73566758e-11 -7.89219801e-11\n",
      " -2.61305866e-10  4.32882619e-11 -1.03029918e-10 -2.25613972e-11\n",
      "  1.90125693e-11 -1.31296085e-11  7.87891974e-11  9.91304816e-11\n",
      " -8.46749337e-11 -4.63282745e-11 -5.34094990e-11  6.01076966e-11\n",
      "  1.63216329e-10 -1.79231074e-11 -1.04244391e-10 -6.74572620e-11\n",
      " -4.73963091e-11 -5.26222399e-11  1.10337961e-10 -1.56651803e-10\n",
      " -1.30448763e-10]\n",
      "[[-1.90734863e-06  3.09944153e-06  0.00000000e+00 -2.14576721e-06\n",
      "   1.43051147e-06  5.72204590e-06 -2.38418579e-07 -8.10623169e-06\n",
      "  -4.76837158e-06 -1.19209290e-06 -5.00679016e-06 -2.38418579e-06\n",
      "  -4.76837158e-07  0.00000000e+00  3.81469727e-06 -4.52995300e-06\n",
      "   1.90734863e-06 -3.33786011e-06 -3.33786011e-06 -3.81469727e-06\n",
      "   3.33786011e-06  1.66893005e-06  2.14576721e-06  1.90734863e-06\n",
      "   5.72204590e-06]\n",
      " [ 3.09944153e-06  8.10623169e-06 -1.90734863e-06  1.90734863e-06\n",
      "   6.67572021e-06  4.05311584e-06  0.00000000e+00  4.29153442e-06\n",
      "  -2.86102295e-06  0.00000000e+00 -1.19209290e-06  7.62939453e-06\n",
      "   7.15255737e-07  3.09944153e-06 -1.90734863e-06  1.90734863e-06\n",
      "   1.19209290e-06 -1.66893005e-06 -2.38418579e-06  3.33786011e-06\n",
      "   1.90734863e-06  3.33786011e-06  9.05990601e-06  9.05990601e-06\n",
      "  -3.33786011e-06]\n",
      " [ 2.86102295e-06  9.53674316e-07 -9.53674316e-07 -2.38418579e-06\n",
      "   2.86102295e-06 -3.09944153e-06 -2.38418579e-07  3.33786011e-06\n",
      "   7.39097595e-06  4.76837158e-06 -4.76837158e-07 -1.43051147e-06\n",
      "   9.53674316e-07  5.24520874e-06 -1.43051147e-06  1.43051147e-06\n",
      "  -3.81469727e-06 -5.24520874e-06  4.29153442e-06  0.00000000e+00\n",
      "  -8.10623169e-06  4.76837158e-06  9.53674316e-07 -1.43051147e-06\n",
      "  -1.21593475e-05]\n",
      " [-2.86102295e-06  9.53674316e-07  0.00000000e+00  1.19209290e-06\n",
      "  -6.43730164e-06 -1.19209290e-06  2.38418579e-06  9.53674316e-07\n",
      "  -2.38418579e-07 -3.33786011e-06 -1.66893005e-06  4.76837158e-07\n",
      "   0.00000000e+00  4.76837158e-07 -1.66893005e-06  4.29153442e-06\n",
      "   2.62260437e-06  1.28746033e-05  6.67572021e-06  1.66893005e-06\n",
      "  -1.66893005e-06  3.57627869e-06 -1.90734863e-06 -4.29153442e-06\n",
      "  -7.62939453e-06]\n",
      " [-1.43051147e-06 -2.14576721e-06 -1.66893005e-06 -5.24520874e-06\n",
      "  -6.43730164e-06 -7.39097595e-06 -1.04904175e-05 -4.76837158e-06\n",
      "  -7.39097595e-06 -1.19209290e-06 -9.05990601e-06 -6.19888306e-06\n",
      "  -3.57627869e-06 -8.34465027e-06 -9.77516174e-06 -5.00679016e-06\n",
      "  -4.29153442e-06 -2.38418579e-06 -7.15255737e-06 -8.82148743e-06\n",
      "  -4.29153442e-06 -7.39097595e-06 -4.29153442e-06 -1.00135803e-05\n",
      "  -4.52995300e-06]\n",
      " [ 9.53674316e-07 -4.76837158e-06 -4.76837158e-06  2.14576721e-06\n",
      "   6.67572021e-06  1.90734863e-06 -6.43730164e-06  0.00000000e+00\n",
      "   2.86102295e-06 -9.05990601e-06 -6.91413879e-06 -4.76837158e-06\n",
      "   1.90734863e-06 -1.43051147e-06  4.29153442e-06 -2.62260437e-06\n",
      "   2.38418579e-07 -6.19888306e-06  3.33786011e-06  5.24520874e-06\n",
      "  -4.76837158e-07  0.00000000e+00 -4.76837158e-06  4.76837158e-06\n",
      "   3.33786011e-06]\n",
      " [ 1.00135803e-05  2.62260437e-06  4.05311584e-06  1.04904175e-05\n",
      "   2.14576721e-06  4.52995300e-06  6.67572021e-06 -4.05311584e-06\n",
      "   4.76837158e-07  3.57627869e-06  5.72204590e-06  5.24520874e-06\n",
      "   2.86102295e-06  5.96046448e-06  4.76837158e-06  5.48362732e-06\n",
      "   4.76837158e-06  3.81469727e-06  4.29153442e-06 -5.48362732e-06\n",
      "   4.05311584e-06  8.82148743e-06  1.90734863e-06  8.10623169e-06\n",
      "   3.09944153e-06]\n",
      " [ 4.52995300e-06  5.72204590e-06 -2.38418579e-07 -4.52995300e-06\n",
      "   7.15255737e-07 -2.38418579e-06  3.09944153e-06  9.53674316e-07\n",
      "  -3.81469727e-06 -4.76837158e-06  2.62260437e-06  4.05311584e-06\n",
      "   4.05311584e-06  4.76837158e-06  3.33786011e-06 -5.96046448e-06\n",
      "   2.38418579e-06  2.86102295e-06  0.00000000e+00 -4.76837158e-07\n",
      "  -7.15255737e-06 -1.43051147e-06  0.00000000e+00 -3.09944153e-06\n",
      "  -2.38418579e-07]\n",
      " [ 2.38418579e-07  7.15255737e-07 -2.86102295e-06  2.86102295e-06\n",
      "  -2.86102295e-06 -3.57627869e-06 -4.76837158e-07  7.15255737e-07\n",
      "   7.15255737e-07  5.96046448e-06  9.53674316e-07  6.19888306e-06\n",
      "   1.90734863e-06  3.57627869e-06  7.86781311e-06  3.57627869e-06\n",
      "  -1.90734863e-06  3.57627869e-06  1.90734863e-06 -9.53674316e-06\n",
      "   2.86102295e-06  1.43051147e-06  1.90734863e-06  2.86102295e-06\n",
      "  -3.33786011e-06]\n",
      " [ 3.33786011e-06 -3.33786011e-06  3.81469727e-06  1.66893005e-06\n",
      "  -1.19209290e-06 -5.00679016e-06 -2.86102295e-06 -7.15255737e-06\n",
      "  -8.58306885e-06 -8.10623169e-06 -5.72204590e-06  1.19209290e-06\n",
      "  -1.43051147e-06 -1.66893005e-06 -2.38418579e-06  2.62260437e-06\n",
      "  -4.29153442e-06 -2.38418579e-06 -2.86102295e-06  3.33786011e-06\n",
      "   7.15255737e-07 -4.76837158e-06 -9.53674316e-07  2.38418579e-06\n",
      "  -1.43051147e-06]]\n"
     ]
    }
   ],
   "source": [
    "print x_true_real[:Ndish]\n",
    "print gg"
   ]
  },
  {
   "cell_type": "code",
   "execution_count": 17,
   "metadata": {},
   "outputs": [
    {
     "name": "stdout",
     "output_type": "stream",
     "text": [
      "9.470229037519063e-07 5.753375401810992e-07\n"
     ]
    }
   ],
   "source": [
    "gg_logcal, sim_gains_logcal = gg, x_true_real[:Ndish]\n",
    "def gains_mean_and_rel_err(gg,sim_gains_amp):\n",
    "    gain_std=(np.std(gg,axis=0)/np.sqrt(runs)).flatten()\n",
    "    gain_mean=np.mean(gg,axis=0).flatten() #shape is 98, we take every second one for amp so shape is 49\n",
    "    rec_gains_mean_amp=gain_mean\n",
    "    rec_gains_std_amp=gain_std\n",
    "    rel_err_amp=np.abs(rec_gains_mean_amp-sim_gains_amp)/(sim_gains_amp)\n",
    "    rel_err_amp_mean=np.mean(rel_err_amp)\n",
    "    rel_err_amp_std=np.std(rel_err_amp,ddof=1)\n",
    "    return rec_gains_mean_amp, rec_gains_std_amp, rel_err_amp, rel_err_amp_mean, rel_err_amp_std\n",
    "\n",
    "rec_gains_mean_amp_2,_,rel_err_amp_2, rel_err_amp_mean_2 ,rel_err_amp_std_2 = gains_mean_and_rel_err(np.exp(gg_logcal),np.exp(sim_gains_logcal))\n",
    "#rec_gains_mean_amp_2,_,rel_err_amp_2, rel_err_amp_mean_2 ,rel_err_amp_std_2 = gains_mean_and_rel_err(gg_logcal,1+sim_gains_logcal)\n",
    "\n",
    "print rel_err_amp_mean_2, rel_err_amp_std_2"
   ]
  },
  {
   "cell_type": "code",
   "execution_count": 18,
   "metadata": {},
   "outputs": [
    {
     "data": {
      "image/png": "[encoded data removed]",
      "text/plain": [
       "<Figure size 432x288 with 1 Axes>"
      ]
     },
     "metadata": {},
     "output_type": "display_data"
    }
   ],
   "source": [
    "fig, ax = plt.subplots()\n",
    "\n",
    "ax.scatter(np.exp(sim_gains_logcal),rec_gains_mean_amp_2)\n",
    "#ax.plot(lims, lims,'g')\n",
    "#plt.errorbar(x_true_real[:Ndish,time_channel],x_rec_real[:Ndish,time_channel],xerr=None,yerr=error[:Ndish],linestyle=\"None\")\n",
    "plt.xlabel('Simulated gains')\n",
    "plt.ylabel('Recovered gains')\n",
    "lim=.002\n",
    "#plt.ylim(0.998,1.002)\n",
    "#plt.savefig('avgd_recgains_vs_simgains_logcal_5by5_nogainfluc_Tsys_50_pt1_dish_scatter')\n",
    "\n",
    "plt.show()"
   ]
  },
  {
   "cell_type": "code",
   "execution_count": 19,
   "metadata": {},
   "outputs": [],
   "source": [
    "def hist_rel_err_mean_std_logcal(gg,sim_gains_amp):\n",
    "    gg_amp=gg\n",
    "    rel_error=(np.abs(gg_amp-sim_gains_amp))/(sim_gains_amp)\n",
    "    gg_amp_mean=np.mean(rel_error,axis=1) #shape is number of runs\n",
    "    gg_amp_std=np.std(rel_error,axis=1, ddof=1)\n",
    "    return gg_amp_std, gg_amp_mean\n",
    "\n",
    "def hist_rel_err_mean_std(gg,sim_gains_amp):\n",
    "    gg_amp=gg[:,0::2]\n",
    "    rel_error=np.abs((gg_amp-sim_gains_amp))/sim_gains_amp\n",
    "    gg_amp_mean=np.mean(rel_error,axis=1) #shape is number of runs\n",
    "    gg_amp_std=np.std(rel_error,axis=1,ddof=1)\n",
    "    return gg_amp_std, gg_amp_mean\n"
   ]
  },
  {
   "cell_type": "code",
   "execution_count": 20,
   "metadata": {
    "scrolled": true
   },
   "outputs": [
    {
     "data": {
      "image/png": "[encoded data removed]",
      "text/plain": [
       "<Figure size 432x288 with 1 Axes>"
      ]
     },
     "metadata": {},
     "output_type": "display_data"
    }
   ],
   "source": [
    "std, mean=hist_rel_err_mean_std_logcal(np.exp(gg_logcal),np.exp(sim_gains_logcal))\n",
    "plt.hist(std,'auto',color='g')\n",
    "#plt.hist(gg_amp_std_1m_logcal,'auto',color='g')\n",
    "plt.xlabel('Standard deviation')\n",
    "#plt.title('Logcal')\n",
    "#plt.savefig('std_hist_logcal_5by5_nogainfluc_Tsys_50_pt1_dish_scatter')\n",
    "plt.show()"
   ]
  },
  {
   "cell_type": "code",
   "execution_count": 21,
   "metadata": {
    "scrolled": true
   },
   "outputs": [
    {
     "data": {
      "image/png": "[encoded data removed]",
      "text/plain": [
       "<Figure size 432x288 with 1 Axes>"
      ]
     },
     "metadata": {},
     "output_type": "display_data"
    }
   ],
   "source": [
    "plt.hist(mean,'auto',color='g')\n",
    "#plt.hist(gg_amp_std_1m_logcal,'auto',color='g')\n",
    "plt.xlabel('Standard deviation')\n",
    "#plt.title('Logcal')\n",
    "#plt.savefig('std_hist_logcal_5by5_nogainfluc_Tsys_50_pt1_dish_scatter')\n",
    "plt.show()"
   ]
  }
 ],
 "metadata": {
  "kernelspec": {
   "display_name": "Python 2",
   "language": "python",
   "name": "python2"
  },
  "language_info": {
   "codemirror_mode": {
    "name": "ipython",
    "version": 2
   },
   "file_extension": ".py",
   "mimetype": "text/x-python",
   "name": "python",
   "nbconvert_exporter": "python",
   "pygments_lexer": "ipython2",
   "version": "2.7.15"
  }
 },
 "nbformat": 4,
 "nbformat_minor": 2
}
