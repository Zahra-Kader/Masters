{
 "cells": [
  {
   "cell_type": "code",
   "execution_count": 1,
   "metadata": {},
   "outputs": [],
   "source": [
    "import numpy as np\n",
    "import h5py,time, matplotlib.pyplot as plt\n",
    "from scipy.optimize import fmin_cg, minimize\n",
    "from drift.core import manager\n",
    "import corrcal2\n",
    "import sys\n",
    "sys.path.insert(0,'/home/zahra/PIPELINE')\n",
    "from hirax_transfer import core\n",
    "from log_red_cal_new import Visibilities_grid, Bls_counts, colour_scatterplot, Scatterplot, index_find\n",
    "from decimal import Decimal\n",
    "from operator import add,sub\n",
    "import scipy as sp\n",
    "from cora.util import hputil\n",
    "from astropy.stats import gaussian_fwhm_to_sigma\n",
    "from hirax_transfer.beams import separations\n",
    "import healpy as hp\n",
    "from cora.core import skysim\n",
    "from cora.foreground import gaussianfg, galaxy\n",
    "from cora.util import coord\n",
    "from drift.core import visibility\n",
    "sys.path.insert(0,'/home/zahra/hirax_tools/')\n",
    "from hirax_tools import array_config"
   ]
  },
  {
   "cell_type": "code",
   "execution_count": 2,
   "metadata": {},
   "outputs": [
    {
     "name": "stdout",
     "output_type": "stream",
     "text": [
      "Product directory: /home/zahra/PIPELINE/example_5by5_kl_nodishscatter_lmax_200/bt_matrices\n"
     ]
    }
   ],
   "source": [
    "m=manager.ProductManager.from_config('/home/zahra/PIPELINE/example_5by5_kl_nodishscatter_lmax_200/prod_params_custom.yaml')\n",
    "\n",
    "correlation_arr, _, _, arranged_corr_unique_bls_lengths, _ = Bls_counts(m)\n",
    "\n",
    "t=m.telescope\n",
    "Nfeeds,_=t.feedpositions.shape\n",
    "Ndish=Nfeeds/2\n",
    "Nbls=Ndish*(Ndish-1)/2\n",
    "antspos = t.feedpositions[:Ndish]\n",
    "x=t.feedpositions[:,0] #these are x and y positions not x and y polarizations\n",
    "y=t.feedpositions[:,1]\n"
   ]
  },
  {
   "cell_type": "code",
   "execution_count": 3,
   "metadata": {},
   "outputs": [],
   "source": [
    "runs=10\n",
    "time_channel=400\n",
    "sigma = 0.001\n",
    "sky = 1."
   ]
  },
  {
   "cell_type": "code",
   "execution_count": 4,
   "metadata": {},
   "outputs": [],
   "source": [
    "src=np.zeros(2*Nbls)\n",
    "#src=src.reshape([1,2*Nbls]) "
   ]
  },
  {
   "cell_type": "code",
   "execution_count": 5,
   "metadata": {},
   "outputs": [
    {
     "name": "stdout",
     "output_type": "stream",
     "text": [
      "128\n",
      "[2.0943951 0.       ]\n",
      "[[0.00637889 0.78539816]\n",
      " [0.00637889 2.35619449]\n",
      " [0.00637889 3.92699082]\n",
      " ...\n",
      " [3.13521376 2.35619449]\n",
      " [3.13521376 3.92699082]\n",
      " [3.13521376 5.49778714]]\n"
     ]
    }
   ],
   "source": [
    "lmax = t.lmax\n",
    "mmax = t.mmax\n",
    "nside = 128\n",
    "print nside\n",
    "angpos = hputil.ang_positions(nside)\n",
    "zenith = t.zenith #same as np.radians(120)\n",
    "frequencies = t.frequencies\n",
    "print zenith\n",
    "print angpos"
   ]
  },
  {
   "cell_type": "code",
   "execution_count": 6,
   "metadata": {},
   "outputs": [
    {
     "name": "stdout",
     "output_type": "stream",
     "text": [
      "[0.00000000e+000 0.00000000e+000 0.00000000e+000 ... 1.21457520e-192\n",
      " 1.21457520e-192 2.30466285e-189]\n"
     ]
    }
   ],
   "source": [
    "wavelength = (3.e8)/(frequencies[0]*10.**6)\n",
    "fwhm = 1.*wavelength/6.\n",
    "sigma_beam = gaussian_fwhm_to_sigma*fwhm\n",
    "seps = separations(angpos, zenith)\n",
    "beammodel = np.exp(-seps**2/2/sigma_beam**2)\n",
    "print beammodel"
   ]
  },
  {
   "cell_type": "code",
   "execution_count": 7,
   "metadata": {},
   "outputs": [],
   "source": [
    "sph_arr = coord.sph_to_cart(angpos)\n",
    "uhatc, vhatc = visibility.uv_plane_cart(zenith)\n"
   ]
  },
  {
   "cell_type": "code",
   "execution_count": null,
   "metadata": {},
   "outputs": [],
   "source": []
  },
  {
   "cell_type": "code",
   "execution_count": 8,
   "metadata": {},
   "outputs": [],
   "source": [
    "HAC = array_config.HIRAXArrayConfig.from_n_elem_compact(Ndish, 6.)\n",
    "\n",
    "\n",
    "#uv = np.resize(np.repeat(3, sph_arr.shape[0]),(3, )\n",
    "#print uv.shape\n",
    "\n",
    "vis_all = np.array([])\n",
    "#fringes_all = np.array([])\n",
    "\n",
    "for i in correlation_arr:\n",
    "    dish_0, dish_1 = i\n",
    "    bl_ind = [np.int(dish_0), np.int(dish_1)]\n",
    "    #v_coord, u_coord, _ = HAC.uvw_coords(frequencies[0],bl_ind)\n",
    "    u_coord = (x[bl_ind[0]] - x[bl_ind[1]])/wavelength\n",
    "    v_coord = (y[bl_ind[0]] - y[bl_ind[1]])/wavelength\n",
    "    uv = u_coord * uhatc + v_coord * vhatc\n",
    "    #print np.inner(sph_arr[0], uv), 'print '\n",
    "    #print np.exp(np.inner(sph_arr[0], uv)), 'exp'\n",
    "    fringes_ind = np.exp(1j*2*np.pi*np.sum(np.inner(np.abs(sph_arr), np.abs(uv))))\n",
    "    vis_ind = np.sum(beammodel**2*fringes_ind*sky)\n",
    "    vis_all = np.append(vis_all, np.round(vis_ind, 3))\n",
    "    #fringes_all = np.append(fringes_all, fringes_ind)"
   ]
  },
  {
   "cell_type": "code",
   "execution_count": 9,
   "metadata": {},
   "outputs": [],
   "source": [
    "vis_ = vis_all\n",
    "\n",
    "vis_new = np.zeros(300, dtype= 'complex')\n",
    "vis_new[:188] += vis_[:188]\n",
    "\n",
    "vis_new[188:196] += vis_[188:196]\n",
    "vis_new[196:204] += vis_[204:212]\n",
    "vis_new[204:212] += vis_[196:204]\n",
    "vis_new[212:220] += vis_[212:220]\n",
    "\n",
    "vis_new[220:226] += vis_[220:226]\n",
    "vis_new[226:232] += vis_[232:238]\n",
    "vis_new[232:238] += vis_[226:232]\n",
    "vis_new[238:244] += vis_[238:244]\n",
    "\n",
    "vis_new[244:254] += vis_[244:254]\n",
    "\n",
    "vis_new[254:258] += vis_[254:258]\n",
    "vis_new[258:262] += vis_[262:266]\n",
    "vis_new[262:266] += vis_[258:262]\n",
    "vis_new[266:270] += vis_[266:270]\n",
    "\n",
    "vis_new[270:274] += vis_[270:274]\n",
    "vis_new[274:278] += vis_[274:278]\n",
    "\n",
    "vis_new[278:281] += vis_[278:281]\n",
    "vis_new[281:284] += vis_[284:287]\n",
    "vis_new[284:287] += vis_[281:284]\n",
    "vis_new[287:290] += vis_[287:290]\n",
    "\n",
    "vis_new[290:292] += vis_[290:292]\n",
    "vis_new[292:294] += vis_[294:296]\n",
    "vis_new[294:296] += vis_[292:294]\n",
    "vis_new[296:298] += vis_[296:298]\n",
    "\n",
    "vis_new[298:299] += vis_[298:299]\n",
    "vis_new[299:300] += vis_[299:300]\n"
   ]
  },
  {
   "cell_type": "code",
   "execution_count": 10,
   "metadata": {},
   "outputs": [],
   "source": [
    "arranged_corr_counts = np.load('arranged_corr_counts_5by5_24_red_blocks.npy')\n",
    "lims = np.append(0, np.cumsum(arranged_corr_counts))\n",
    "\n",
    "arranged_corr_unique_bls = np.load('arranged_corr_unique_bls_5by5_24_red_blocks.npy')\n",
    "correlation_arr = np.load('corr_arr_5by5_24_red_blocks.npy')"
   ]
  },
  {
   "cell_type": "code",
   "execution_count": 11,
   "metadata": {},
   "outputs": [],
   "source": [
    "ant1=correlation_arr[:,0].astype(int)\n",
    "ant2=correlation_arr[:,1].astype(int)\n"
   ]
  },
  {
   "cell_type": "raw",
   "metadata": {},
   "source": [
    "Cov_dic ={}\n",
    "\n",
    "for ubl_k in range(len(lims)-1):\n",
    "    \n",
    "    block_k = arranged_corr_counts[ubl_k]\n",
    "    dish_0, dish_1 = arranged_corr_unique_bls[ubl_k] # baseline for interferemeter pair alpha\n",
    "    bl_ind = [np.int(dish_0), np.int(dish_1)]\n",
    "    #v_coord, u_coord, _ = HAC.uvw_coords(frequencies[0],bl_ind)\n",
    "    u_coord = (x[bl_ind[0]] - x[bl_ind[1]])/wavelength\n",
    "    v_coord = (y[bl_ind[0]] - y[bl_ind[1]])/wavelength\n",
    "    uv = u_coord * uhatc + v_coord * vhatc\n",
    "    fringes_ind = np.exp(1j*2*np.pi*np.sum(np.inner(np.abs(sph_arr), np.abs(uv))))\n",
    "    vis_ind = np.sum(beammodel**2*fringes_ind*sky)\n",
    "    cov_ind = vis_ind**2\n",
    "    cov_k =cov_ind*np.ones((block_k,block_k), dtype='complex')\n",
    "    Cov_dic[ubl_k]= cov_k"
   ]
  },
  {
   "cell_type": "code",
   "execution_count": 12,
   "metadata": {},
   "outputs": [],
   "source": [
    "Cov_dic ={} # dictionary of expected of the sky covariance matrices for all redundant blocks at observing frequency\n",
    "\n",
    "\n",
    "for ubl_k in range(len(lims)-1):\n",
    "    block_k = arranged_corr_counts[ubl_k]\n",
    "    cov_k =np.zeros((block_k,block_k), dtype='complex') \n",
    "    vis_block = vis_new[lims[ubl_k]:lims[ubl_k+1]]\n",
    "    for bl_w in range(block_k):\n",
    "        for bl_z in range(block_k):\n",
    "            #print bl_z, 'blz'\n",
    "            cov_k[bl_w][bl_z] = vis_block[bl_w]*vis_block[bl_z]  \n",
    "    Cov_dic[ubl_k]= cov_k\n"
   ]
  },
  {
   "cell_type": "raw",
   "metadata": {},
   "source": [
    "Cov_dic ={}\n",
    "\n",
    "for ubl_k in range(len(lims)-1):\n",
    "    \n",
    "    block_k = arranged_corr_counts[ubl_k]\n",
    "    dish_0, dish_1 = arranged_corr_unique_bls[ubl_k] # baseline for interferemeter pair alpha\n",
    "    bl_ind = [np.int(dish_0), np.int(dish_1)]\n",
    "    u_coord, v_coord = HAC.uvw_coords(frequencies[0],bl_ind)[0], HAC.uvw_coords(frequencies[0],bl_ind)[1]\n",
    "    uv = u_coord * uhatc + v_coord * vhatc\n",
    "    fringes_ind = np.exp(1j*2*np.pi*np.sum(np.abs(np.inner(sph_arr, uv))))\n",
    "    sky = 0.1\n",
    "    interfer_beam_alpha = np.conj(beammodel)*beammodel*fringes_ind # interferometry beam for pair of antenna (i,j)\n",
    "    blm_alpha = hp.map2alm(interfer_beam_alpha,lmax=lmax,mmax=mmax,iter=10) #spherical harmonic transform of interferomtric beam\n",
    "    tmp_alpha_alpha = np.conj(blm_alpha[1:])*blm_alpha[1:]*sky**2\n",
    "    cov_alpha_alpha= np.sum(tmp_alpha_alpha)\n",
    "    cov_k =cov_alpha_alpha * np.ones((block_k,block_k), dtype='complex')\n",
    "    Cov_dic[ubl_k]= cov_k"
   ]
  },
  {
   "cell_type": "code",
   "execution_count": 13,
   "metadata": {},
   "outputs": [],
   "source": [
    "nvec=4\n",
    "vecs = np.zeros((2*300,2*nvec))\n",
    "thresh = 1.e-34\n",
    "\n",
    "for i in range(len(lims)-1):\n",
    "    myeig, myvecs=np.linalg.eig(Cov_dic[i])\n",
    "    ind = (np.abs(myeig)).argsort()[::-1][:nvec] #np.abs(myeig)>thresh*np.abs(myeig.max()) # picking up an index\n",
    "    #myeig_use=myeig[ind] # pict max eigenvalue\n",
    "    #myvecs_use=myvecs[:,ind] # pick  corresponding max eigenvec\n",
    "    for j in range(len(ind)): #was previously range(len(myvecs_use))\n",
    "            myvecs[:,ind[j]]= myvecs[:,ind[j]]*np.sqrt(myeig[ind[j]])\n",
    "            vecs[2*lims[i]:2*lims[i+1]:2,2*j]=  np.column_stack(myvecs[:,ind[j]].real)\n",
    "            vecs[(2*lims[i]+1):2*lims[i+1]:2,2*j+1]= np.column_stack(myvecs[:,ind[j]].imag)\n",
    "vecs = vecs.T"
   ]
  },
  {
   "cell_type": "code",
   "execution_count": 14,
   "metadata": {},
   "outputs": [],
   "source": [
    "v1=np.zeros(2*Nbls)\n",
    "v1[0::2]=1\n",
    "v2=np.zeros(2*Nbls)\n",
    "v2[1::2]=1\n",
    "#vecs=np.vstack([v1,v2])*1.e3"
   ]
  },
  {
   "cell_type": "code",
   "execution_count": 15,
   "metadata": {},
   "outputs": [
    {
     "name": "stdout",
     "output_type": "stream",
     "text": [
      "0\n",
      "0.001\n",
      "Warning: Desired error not necessarily achieved due to precision loss.\n",
      "         Current function value: 641.446738\n",
      "         Iterations: 4\n",
      "         Function evaluations: 92\n",
      "         Gradient evaluations: 81\n",
      "[0.99999357 0.99999872 0.99999722 0.99999635 0.99999737 0.99999728\n",
      " 0.99999487 0.99999086 0.99999347 0.99999761 0.99998889 0.99999696\n",
      " 0.99999799 1.00000186 0.99999338 0.9999979  0.99999869 0.99999912\n",
      " 1.00000118 0.9999956  0.99999375 0.9999941  0.99999786 0.99999076\n",
      " 0.99999435]\n",
      "1\n",
      "0.001\n",
      "Warning: Desired error not necessarily achieved due to precision loss.\n",
      "         Current function value: 511.326286\n",
      "         Iterations: 4\n",
      "         Function evaluations: 53\n",
      "         Gradient evaluations: 42\n",
      "[0.9999992  0.99999572 0.99999203 0.99999861 0.99999518 0.99999398\n",
      " 1.00000035 0.99999329 0.99999396 0.99999389 1.00000086 0.99999852\n",
      " 0.99999604 0.99999806 0.99999597 0.99999609 1.0000039  0.99999195\n",
      " 0.99999734 0.99999458 0.99999367 0.99999828 0.99999023 0.99999229\n",
      " 0.99999569]\n",
      "2\n",
      "0.001\n",
      "Warning: Desired error not necessarily achieved due to precision loss.\n",
      "         Current function value: 595.857188\n",
      "         Iterations: 6\n",
      "         Function evaluations: 53\n",
      "         Gradient evaluations: 30\n",
      "[0.99999388 0.99999964 0.99999604 0.99999576 0.99999491 0.99999969\n",
      " 0.99999369 0.99999841 0.99999725 0.99999851 0.99999777 0.99999885\n",
      " 0.99999502 0.99999517 0.99999547 0.99999318 0.99999474 0.99999517\n",
      " 0.99999485 0.99999599 0.99999396 0.99999062 0.99999552 0.99999676\n",
      " 0.99999887]\n",
      "3\n",
      "0.001\n",
      "Warning: Desired error not necessarily achieved due to precision loss.\n",
      "         Current function value: 583.312778\n",
      "         Iterations: 5\n",
      "         Function evaluations: 65\n",
      "         Gradient evaluations: 53\n",
      "[0.9999977  0.99999508 1.00000013 0.99999496 0.99999424 0.99999587\n",
      " 0.99999459 0.99999452 0.99999183 0.99999894 0.99999297 0.99999476\n",
      " 0.99999931 0.99999666 1.00000557 0.99999654 0.99999867 0.99999084\n",
      " 0.99999632 0.99999578 0.99999231 0.99999704 0.9999959  0.99999353\n",
      " 0.99999563]\n",
      "4\n",
      "0.001\n",
      "Warning: Desired error not necessarily achieved due to precision loss.\n",
      "         Current function value: 604.285320\n",
      "         Iterations: 6\n",
      "         Function evaluations: 76\n",
      "         Gradient evaluations: 64\n",
      "[0.9999932  0.99999725 0.99999379 0.99999724 0.99999603 0.99999742\n",
      " 0.99999439 0.99999376 0.9999936  0.99999454 1.00000051 0.99999665\n",
      " 0.99999142 0.99999402 0.99999727 1.00000062 0.99999547 1.00000099\n",
      " 0.99999924 0.99999155 0.99999373 0.99999751 0.99999755 0.99999525\n",
      " 0.99999673]\n",
      "5\n",
      "0.001\n",
      "Warning: Desired error not necessarily achieved due to precision loss.\n",
      "         Current function value: 576.155130\n",
      "         Iterations: 6\n",
      "         Function evaluations: 67\n",
      "         Gradient evaluations: 56\n",
      "[0.99999599 0.99999967 0.9999982  0.99999801 0.9999954  0.99999626\n",
      " 0.9999956  1.0000024  0.99999415 1.00000008 0.99999852 0.9999959\n",
      " 0.99999541 0.99999311 0.99999301 0.99999082 0.99999734 0.99999892\n",
      " 0.99999511 0.99999276 0.99999232 0.99999281 0.99999761 0.99999568\n",
      " 0.99999462]\n",
      "6\n",
      "0.001\n",
      "Warning: Desired error not necessarily achieved due to precision loss.\n",
      "         Current function value: 558.385589\n",
      "         Iterations: 6\n",
      "         Function evaluations: 170\n",
      "         Gradient evaluations: 150\n",
      "[0.99999456 0.99999566 0.99999501 0.99999643 1.00000094 0.99999345\n",
      " 0.9999977  0.99999597 0.99999436 0.99999554 0.9999945  0.99999822\n",
      " 0.99999877 0.99999646 1.00000168 0.9999885  0.99999405 1.00000341\n",
      " 0.99999527 0.99999549 0.99999522 0.99999219 0.99999877 0.99999426\n",
      " 0.9999933 ]\n",
      "7\n",
      "0.001\n",
      "Warning: Desired error not necessarily achieved due to precision loss.\n",
      "         Current function value: 608.212249\n",
      "         Iterations: 4\n",
      "         Function evaluations: 29\n",
      "         Gradient evaluations: 18\n",
      "[0.99999508 0.99999836 0.99999016 0.99999069 0.99999768 0.99999617\n",
      " 0.99999317 0.9999951  0.99999878 0.99999557 0.99999453 0.9999946\n",
      " 0.99999914 0.99999194 0.99999196 1.00000471 0.99999792 0.99999866\n",
      " 0.99999511 0.99999384 1.00000155 0.99999422 0.99999799 0.99999662\n",
      " 0.99999615]\n",
      "8\n",
      "0.001\n",
      "Warning: Desired error not necessarily achieved due to precision loss.\n",
      "         Current function value: 580.922679\n",
      "         Iterations: 5\n",
      "         Function evaluations: 37\n",
      "         Gradient evaluations: 28\n",
      "[0.99999351 0.99999515 0.99999985 0.9999995  0.99999523 0.99999859\n",
      " 0.9999943  0.99999631 0.99999854 0.99999876 0.99999837 0.99999387\n",
      " 0.99999263 0.99999027 0.99999277 0.99999939 0.99999555 1.000002\n",
      " 0.99999942 0.99999465 0.99999278 1.00000143 0.99998825 0.99999274\n",
      " 0.99999584]\n",
      "9\n",
      "0.001\n",
      "Warning: Desired error not necessarily achieved due to precision loss.\n",
      "         Current function value: 556.256190\n",
      "         Iterations: 4\n",
      "         Function evaluations: 93\n",
      "         Gradient evaluations: 82\n",
      "[0.99999778 0.99999544 1.00000244 0.99999594 1.00000067 0.9999969\n",
      " 0.99999249 0.99999641 0.9999938  0.99998708 0.9999919  0.99999729\n",
      " 0.99999889 1.00000416 0.99999916 0.99999551 0.99999053 0.99999949\n",
      " 0.9999955  0.99999777 0.99999118 0.99999356 0.99999588 0.99999407\n",
      " 0.99999584]\n"
     ]
    },
    {
     "data": {
      "text/plain": [
       "(10, 50)"
      ]
     },
     "execution_count": 15,
     "metadata": {},
     "output_type": "execute_result"
    }
   ],
   "source": [
    "random_pt1=np.load('random_pt1.npy')*1.e-4\n",
    "#random_pt1 = np.random.rand(1.e-7)\n",
    "\n",
    "\n",
    "\n",
    "sim_gains = np.ones(2*Ndish) \n",
    "sim_gains[1::2]=0.\n",
    "\n",
    "def fit_gains(m,random,sigma):\n",
    "       \n",
    "    gg=np.zeros((runs,Ndish*2))\n",
    "    for ind_run in range(runs):\n",
    "        print ind_run\n",
    "        #vis=arr[0][:,time_channel]\n",
    "        mu = 0 \n",
    "        N_real=np.random.normal(mu, sigma, Nbls)\n",
    "        N_imag=np.random.normal(mu, sigma, Nbls)\n",
    "        N_comp=np.array([])\n",
    "        for i in range(len(N_real)):\n",
    "            N_comp=np.append(N_comp,complex(N_real[i],N_imag[i]))\n",
    "        vis=vis_new+N_comp\n",
    "\n",
    "        diag=sigma**2*np.ones(2*Nbls)\n",
    "        print (sigma)\n",
    "        mat=corrcal2.sparse_2level(diag,vecs,src,2*lims) #init\n",
    "        mult=random+1.\n",
    "\n",
    "        gvec=np.array([])\n",
    "        for i in range(len(sim_gains)):\n",
    "            gvec=np.append(gvec,sim_gains[i]+random[i])\n",
    "            #gvec=np.append(gvec,random[i])\n",
    "            #gvec=np.append(gvec,sim_gains[i]*mult[i])\n",
    "\n",
    "\n",
    "        data=np.zeros(2*vis.size)\n",
    "        data[0::2]=vis.real\n",
    "        data[1::2]=vis.imag\n",
    "        fac=1.;\n",
    "        normfac=1.\n",
    "        asdf=fmin_cg(corrcal2.get_chisq,gvec*fac,corrcal2.get_gradient,(data,mat,ant1,ant2,fac,normfac))\n",
    "        #asdf=fmin_cg(corrcal2.get_chisq_dense,gvec*fac,corrcal2.get_gradient_dense,(data,diag_mat,vecs_mat,ant1,ant2,fac,normfac))\n",
    "        fit_gains_run=asdf/fac\n",
    "        gg[ind_run,:]=fit_gains_run\n",
    "        print fit_gains_run[::2]\n",
    "    return gg\n",
    " \n",
    "gg_2, sim_gains_amp_2 =fit_gains(m,random_pt1,sigma), sim_gains[::2]   \n",
    "gg_2.shape\n"
   ]
  },
  {
   "cell_type": "code",
   "execution_count": 16,
   "metadata": {},
   "outputs": [
    {
     "name": "stdout",
     "output_type": "stream",
     "text": [
      "9.293890970080207e-07 4.01222265282275e-06\n"
     ]
    }
   ],
   "source": [
    "\n",
    "gg_corrcal, sim_gains_corrcal = gg_2, sim_gains_amp_2\n",
    "\n",
    "def gains_mean_and_rel_err(gg,sim_gains_amp):\n",
    "    gain_std=(np.std(gg,axis=0)/np.sqrt(runs)).flatten()\n",
    "    gain_mean=np.mean(gg,axis=0).flatten() #shape is 98, we take every second one for amp so shape is 49\n",
    "    rec_gains_mean_amp=gain_mean[0::2]\n",
    "    rec_gains_std_amp=gain_std[0::2]\n",
    "    rel_err_amp=np.abs(rec_gains_mean_amp-sim_gains_amp)/sim_gains_amp\n",
    "\n",
    "    rel_err_amp_mean=np.mean(rel_err_amp)\n",
    "    rel_err_amp_std=np.std(rel_err_amp,ddof=1)\n",
    "    return rec_gains_mean_amp, rec_gains_std_amp, rel_err_amp, rel_err_amp_mean, rel_err_amp_std\n",
    "\n",
    "rec_gains_mean_amp_2,_,rel_err_amp_2, rel_err_amp_mean_2 ,rel_err_amp_std_2 = gains_mean_and_rel_err(gg_corrcal, sim_gains_corrcal)\n",
    "\n",
    "print rel_err_amp_std_2, rel_err_amp_mean_2"
   ]
  },
  {
   "cell_type": "code",
   "execution_count": 17,
   "metadata": {},
   "outputs": [
    {
     "data": {
      "text/plain": [
       "Text(0.5,1,'Averaged recovered gains vs simulated gains')"
      ]
     },
     "execution_count": 17,
     "metadata": {},
     "output_type": "execute_result"
    },
    {
     "data": {
      "image/png": "[encoded data removed]",
      "text/plain": [
       "<Figure size 432x288 with 1 Axes>"
      ]
     },
     "metadata": {},
     "output_type": "display_data"
    }
   ],
   "source": [
    "fig, ax = plt.subplots()\n",
    "\n",
    "ax.scatter(sim_gains_amp_2, rec_gains_mean_amp_2)\n",
    "#ax.plot(lims, lims,'g')\n",
    "#plt.errorbar(x_true_real[:Ndish,time_channel],x_rec_real[:Ndish,time_channel],xerr=None,yerr=error[:Ndish],linestyle=\"None\")\n",
    "plt.xlabel('Simulated gains')\n",
    "plt.ylabel('Recovered gains')\n",
    "lim=.002\n",
    "#plt.ylim(0.978,0.982)\n",
    "plt.title('Averaged recovered gains vs simulated gains')\n",
    "#plt.ylim(0.998,1.002)\n",
    "#plt.savefig('avgd_recgains_vs_simgains_corrcal_5by5_nogainfluc_Tsys_50_no_dish_scatter_1e-4_initguess')\n"
   ]
  },
  {
   "cell_type": "code",
   "execution_count": 18,
   "metadata": {},
   "outputs": [
    {
     "data": {
      "image/png": "[encoded data removed]",
      "text/plain": [
       "<Figure size 432x288 with 2 Axes>"
      ]
     },
     "metadata": {},
     "output_type": "display_data"
    }
   ],
   "source": [
    "colour_scatterplot(m,rel_err_amp_2)"
   ]
  },
  {
   "cell_type": "code",
   "execution_count": 19,
   "metadata": {},
   "outputs": [
    {
     "name": "stdout",
     "output_type": "stream",
     "text": [
      "0.9999940467357235 0.9999980542976393\n"
     ]
    }
   ],
   "source": [
    "print rec_gains_mean_amp_2.min(), rec_gains_mean_amp_2.max()"
   ]
  },
  {
   "cell_type": "code",
   "execution_count": 20,
   "metadata": {},
   "outputs": [],
   "source": [
    "def hist_rel_err_mean_std(gg,sim_gains_amp):\n",
    "    gg_amp=gg[:,0::2]\n",
    "    rel_error=np.abs((gg_amp-sim_gains_amp))/sim_gains_amp\n",
    "    gg_amp_mean=np.mean(rel_error,axis=1) #shape is number of runs\n",
    "    gg_amp_std=np.std(rel_error,axis=1,ddof=1)\n",
    "    return gg_amp_std, gg_amp_mean\n",
    "\n",
    "def hist_rel_err_mean_std_logcal(gg,sim_gains_amp):\n",
    "    gg_amp=gg\n",
    "    rel_error=np.abs((gg_amp-sim_gains_amp))/(sim_gains_amp) # remember to input exponent of both fit and simulated gains\n",
    "    gg_amp_mean=np.mean(rel_error,axis=1) #shape is number of runs\n",
    "    gg_amp_std=np.std(rel_error,axis=1,ddof=1)\n",
    "    return gg_amp_std, gg_amp_mean\n"
   ]
  },
  {
   "cell_type": "code",
   "execution_count": 21,
   "metadata": {},
   "outputs": [],
   "source": [
    "#np.save('std_fg_no_scatter_100runs_tsys_5',hist_rel_err_mean_std(gg_2,sim_gains_amp_2)[0])"
   ]
  },
  {
   "cell_type": "code",
   "execution_count": 22,
   "metadata": {
    "scrolled": true
   },
   "outputs": [
    {
     "data": {
      "image/png": "[encoded data removed]",
      "text/plain": [
       "<Figure size 432x288 with 1 Axes>"
      ]
     },
     "metadata": {},
     "output_type": "display_data"
    }
   ],
   "source": [
    "plt.hist(hist_rel_err_mean_std(gg_2,sim_gains_amp_2)[1],'auto') \n",
    "plt.xlabel('Mean')\n",
    "#plt.savefig('std_hist_corrcal_5by5_nogainfluc_Tsys_50_no_dish_scatter_initguess_1e-4')\n",
    "plt.show()"
   ]
  },
  {
   "cell_type": "code",
   "execution_count": 23,
   "metadata": {
    "scrolled": false
   },
   "outputs": [
    {
     "data": {
      "image/png": "[encoded data removed]",
      "text/plain": [
       "<Figure size 432x288 with 1 Axes>"
      ]
     },
     "metadata": {},
     "output_type": "display_data"
    }
   ],
   "source": [
    "plt.hist(hist_rel_err_mean_std(gg_2,sim_gains_amp_2)[0],'auto') \n",
    "#plt.hist(std_fg, 'auto',color='b')\n",
    "#plt.hist(std_no_sky_cov, 'auto', color='r')\n",
    "plt.xlabel('Standard deviation')\n",
    "#plt.xlim(0.0025,0.02)\n",
    "#plt.savefig('std_hist_corrcal_5by5_nogainfluc_Tsys_50_no_dish_scatter_initguess_1e-4')\n",
    "plt.show()"
   ]
  },
  {
   "cell_type": "code",
   "execution_count": null,
   "metadata": {},
   "outputs": [],
   "source": []
  }
 ],
 "metadata": {
  "kernelspec": {
   "display_name": "Python 2",
   "language": "python",
   "name": "python2"
  },
  "language_info": {
   "codemirror_mode": {
    "name": "ipython",
    "version": 2
   },
   "file_extension": ".py",
   "mimetype": "text/x-python",
   "name": "python",
   "nbconvert_exporter": "python",
   "pygments_lexer": "ipython2",
   "version": "2.7.15"
  }
 },
 "nbformat": 4,
 "nbformat_minor": 2
}
