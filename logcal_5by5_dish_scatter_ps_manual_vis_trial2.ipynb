{
 "cells": [
  {
   "cell_type": "code",
   "execution_count": 102,
   "metadata": {},
   "outputs": [],
   "source": [
    "import h5py\n",
    "import matplotlib.pyplot as plt\n",
    "import numpy as np\n",
    "import pylab\n",
    "import scipy as sp\n",
    "from matplotlib.colors import LogNorm\n",
    "import matplotlib.patches as mpatches\n",
    "from drift.core import manager\n",
    "from scipy.sparse import lil_matrix\n",
    "import sys\n",
    "sys.path.insert(0,'/home/zahra/PIPELINE')\n",
    "from cora.util import hputil\n",
    "from astropy.stats import gaussian_fwhm_to_sigma\n",
    "from hirax_transfer.beams import separations\n",
    "import healpy as hp\n",
    "from cora.core import skysim\n",
    "from cora.foreground import gaussianfg, galaxy\n",
    "from log_red_cal_fewer_redblocks import Logcal_solutions, A_matrix, colour_scatterplot, Bls_counts, Scatterplot\n",
    "from cora.foreground import gaussianfg, galaxy\n",
    "from cora.util import coord\n",
    "from drift.core import visibility\n",
    "sys.path.insert(0,'/home/zahra/hirax_tools/')\n",
    "from hirax_tools import array_config"
   ]
  },
  {
   "cell_type": "code",
   "execution_count": 103,
   "metadata": {},
   "outputs": [
    {
     "name": "stdout",
     "output_type": "stream",
     "text": [
      "Product directory: /home/zahra/PIPELINE/example_5by5_kl_nodishscatter_lmax_200/bt_matrices\n"
     ]
    }
   ],
   "source": [
    "Ndish=25\n",
    "Nbls=Ndish*(Ndish-1)/2\n",
    "\n",
    "#m=manager.ProductManager.from_config('/home/zahra/PIPELINE/5by5_dishvar_pt1_kl/prod_params_custom.yaml')\n",
    "m=manager.ProductManager.from_config('/home/zahra/PIPELINE/example_5by5_kl_nodishscatter_lmax_200/prod_params_custom.yaml')\n",
    "\n",
    "#m=manager.ProductManager.from_config('/media/zahra/DATA/5by5_dishvar_pt01/prod_params_custom.yaml')\n",
    "\n",
    "\n",
    "correlation_arr, sum_counts, arranged_corr_counts, arranged_corr_unique_bls = Bls_counts(m)\n",
    "\n",
    "#m=manager.ProductManager.from_config('/home/zahra/PIPELINE/example_8by8/prod_params_custom.yaml')\n",
    "\n",
    "t=m.telescope\n",
    "x=t.feedpositions[:,0] #these are x and y positions not x and y polarizations\n",
    "y=t.feedpositions[:,1]"
   ]
  },
  {
   "cell_type": "code",
   "execution_count": 104,
   "metadata": {},
   "outputs": [],
   "source": [
    "runs=100\n",
    "time_channel=400\n",
    "sigma = 0.001\n",
    "sky = 1.\n",
    "dish_fluc = 5."
   ]
  },
  {
   "cell_type": "code",
   "execution_count": 105,
   "metadata": {},
   "outputs": [
    {
     "name": "stdout",
     "output_type": "stream",
     "text": [
      "128\n",
      "[2.0943951 0.       ]\n",
      "[[0.00637889 0.78539816]\n",
      " [0.00637889 2.35619449]\n",
      " [0.00637889 3.92699082]\n",
      " ...\n",
      " [3.13521376 2.35619449]\n",
      " [3.13521376 3.92699082]\n",
      " [3.13521376 5.49778714]]\n"
     ]
    }
   ],
   "source": [
    "lmax = t.lmax\n",
    "mmax = t.mmax\n",
    "nside = 128\n",
    "print nside\n",
    "angpos = hputil.ang_positions(nside)\n",
    "zenith = t.zenith #same as np.radians(120)\n",
    "frequencies = t.frequencies\n",
    "print zenith\n",
    "print angpos"
   ]
  },
  {
   "cell_type": "code",
   "execution_count": 106,
   "metadata": {},
   "outputs": [
    {
     "name": "stdout",
     "output_type": "stream",
     "text": [
      "[0.00000000e+000 0.00000000e+000 0.00000000e+000 ... 1.61922971e-192\n",
      " 1.61922971e-192 3.05744225e-189]\n"
     ]
    }
   ],
   "source": [
    "wavelength = (3.e8)/(600.*10.**6)\n",
    "fwhm = 1.*wavelength/6.\n",
    "sigma_beam = gaussian_fwhm_to_sigma*fwhm\n",
    "seps = separations(angpos, zenith)\n",
    "beammodel = np.exp(-seps**2/2/sigma_beam**2)\n",
    "print beammodel"
   ]
  },
  {
   "cell_type": "code",
   "execution_count": 107,
   "metadata": {},
   "outputs": [],
   "source": [
    "sph_arr = coord.sph_to_cart(angpos)\n",
    "uhatc, vhatc = visibility.uv_plane_cart(zenith)\n"
   ]
  },
  {
   "cell_type": "code",
   "execution_count": 108,
   "metadata": {},
   "outputs": [],
   "source": [
    "HAC = array_config.HIRAXArrayConfig.from_n_elem_compact(Ndish, 6.)\n",
    "\n",
    "\n",
    "#uv = np.resize(np.repeat(3, sph_arr.shape[0]),(3, )\n",
    "#print uv.shape\n",
    "\n",
    "vis_all = np.array([])\n",
    "fringes_all = np.array([])\n",
    "\n",
    "for i in correlation_arr:\n",
    "    dish_0, dish_1 = i\n",
    "    bl_ind = [np.int(dish_0), np.int(dish_1)]\n",
    "    #v_coord, u_coord, _ = HAC.uvw_coords(frequencies[0],bl_ind)\n",
    "    u_coord = (x[bl_ind[0]] - x[bl_ind[1]])/wavelength\n",
    "    #print u_coord, 'u'\n",
    "    v_coord = (y[bl_ind[0]] - y[bl_ind[1]])/wavelength\n",
    "    #print v_coord, 'v'\n",
    "    uv = u_coord * uhatc + v_coord * vhatc\n",
    "    #print np.inner(sph_arr[0], uv), 'print '\n",
    "    #print np.exp(np.inner(sph_arr[0], uv)), 'exp'\n",
    "    fringes_ind = np.exp(1j*2*np.pi*np.sum(np.inner(sph_arr, uv)))\n",
    "    vis_ind = np.sum(beammodel**2*fringes_ind*sky)\n",
    "    vis_all = np.append(vis_all, np.round(vis_ind, 3))\n",
    "    fringes_all = np.append(fringes_all, fringes_ind)"
   ]
  },
  {
   "cell_type": "code",
   "execution_count": 109,
   "metadata": {},
   "outputs": [],
   "source": [
    "vis_ = vis_all\n",
    "\n",
    "vis_new = np.zeros(300, dtype= 'complex')\n",
    "vis_new[:188] += vis_[:188]\n",
    "\n",
    "vis_new[188:196] += vis_[188:196]\n",
    "vis_new[196:204] += vis_[204:212]\n",
    "vis_new[204:212] += vis_[196:204]\n",
    "vis_new[212:220] += vis_[212:220]\n",
    "\n",
    "vis_new[220:226] += vis_[220:226]\n",
    "vis_new[226:232] += vis_[232:238]\n",
    "vis_new[232:238] += vis_[226:232]\n",
    "vis_new[238:244] += vis_[238:244]\n",
    "\n",
    "vis_new[244:254] += vis_[244:254]\n",
    "\n",
    "vis_new[254:258] += vis_[254:258]\n",
    "vis_new[258:262] += vis_[262:266]\n",
    "vis_new[262:266] += vis_[258:262]\n",
    "vis_new[266:270] += vis_[266:270]\n",
    "\n",
    "vis_new[270:274] += vis_[270:274]\n",
    "vis_new[274:278] += vis_[274:278]\n",
    "\n",
    "vis_new[278:281] += vis_[278:281]\n",
    "vis_new[281:284] += vis_[284:287]\n",
    "vis_new[284:287] += vis_[281:284]\n",
    "vis_new[287:290] += vis_[287:290]\n",
    "\n",
    "vis_new[290:292] += vis_[290:292]\n",
    "vis_new[292:294] += vis_[294:296]\n",
    "vis_new[294:296] += vis_[292:294]\n",
    "vis_new[296:298] += vis_[296:298]\n",
    "\n",
    "vis_new[298:299] += vis_[298:299]\n",
    "vis_new[299:300] += vis_[299:300]\n"
   ]
  },
  {
   "cell_type": "code",
   "execution_count": 110,
   "metadata": {},
   "outputs": [],
   "source": [
    "arranged_corr_counts = np.load('arranged_corr_counts_5by5_24_red_blocks.npy')\n",
    "lims = np.append(0, np.cumsum(arranged_corr_counts))\n",
    "\n",
    "arranged_corr_unique_bls = np.load('arranged_corr_unique_bls_5by5_24_red_blocks.npy')\n",
    "correlation_arr = np.load('corr_arr_5by5_24_red_blocks.npy')"
   ]
  },
  {
   "cell_type": "code",
   "execution_count": 111,
   "metadata": {},
   "outputs": [],
   "source": [
    "vis_newer_real = np.zeros(300)\n",
    "vis_newer_imag = np.zeros(300)\n",
    "\n",
    "for i in range(len(lims)-1):\n",
    "    vis_newer_real[lims[i]:lims[i+1]] += np.random.normal(vis_new.real[lims[i]], dish_fluc, arranged_corr_counts[i])\n",
    "    vis_newer_imag[lims[i]:lims[i+1]] += np.random.normal(vis_new.imag[lims[i]], dish_fluc, arranged_corr_counts[i])\n",
    "    "
   ]
  },
  {
   "cell_type": "code",
   "execution_count": 112,
   "metadata": {},
   "outputs": [
    {
     "data": {
      "text/plain": [
       "(300,)"
      ]
     },
     "execution_count": 112,
     "metadata": {},
     "output_type": "execute_result"
    }
   ],
   "source": [
    "vis_newer_real.shape"
   ]
  },
  {
   "cell_type": "code",
   "execution_count": 113,
   "metadata": {},
   "outputs": [],
   "source": [
    "vis_newer = np.array([])\n",
    "for element in range(300):\n",
    "    vis_newer = np.append(vis_newer,complex(vis_newer_real[element], vis_newer_imag[element]))"
   ]
  },
  {
   "cell_type": "code",
   "execution_count": 114,
   "metadata": {},
   "outputs": [],
   "source": [
    "vis_new = vis_newer"
   ]
  },
  {
   "cell_type": "code",
   "execution_count": 115,
   "metadata": {},
   "outputs": [],
   "source": [
    "def Measured_vis(sigma):\n",
    "    mu = 0  \n",
    "    N_real=np.random.normal(mu, sigma, Nbls)\n",
    "    N_imag=np.random.normal(mu, sigma, Nbls)\n",
    "    N_comp=np.array([])\n",
    "    for i in range(len(N_real)):\n",
    "        N_comp=np.append(N_comp,complex(N_real[i],N_imag[i]))\n",
    "    meas_vis=vis_new+N_comp\n",
    "    return meas_vis\n",
    "\n",
    "meas_vis=Measured_vis(sigma)"
   ]
  },
  {
   "cell_type": "code",
   "execution_count": 116,
   "metadata": {},
   "outputs": [
    {
     "data": {
      "text/plain": [
       "array([59.27581746-1.20554018e+00j, 65.75961214+3.31814361e+00j,\n",
       "       62.30659509-5.99799000e+00j, 70.21410995-4.48344237e+00j,\n",
       "       58.47414211-7.38355534e+00j, 64.91523141+2.35571113e+00j,\n",
       "       55.37403806+1.21570873e+00j, 64.69116701-8.37315841e-01j,\n",
       "       62.34032061-1.93398216e+00j, 62.58766917-3.31889967e+00j,\n",
       "       59.68008828+4.71569060e+00j, 63.84381859-4.13517591e+00j,\n",
       "       53.24573603-2.20676377e+00j, 59.74347682+3.10395237e+00j,\n",
       "       66.64094703+6.87043349e+00j, 56.64791822+4.63018871e+00j,\n",
       "       60.30493486-3.25657478e-01j, 63.67432747+7.75529481e+00j,\n",
       "       69.23778881-1.18501026e+00j, 61.94936498+7.80794632e+00j,\n",
       "       67.98762596+3.22646377e+00j, 71.309935  -7.64465049e-01j,\n",
       "       59.38974875-3.57146211e+00j, 61.32563458-2.35686643e+00j,\n",
       "       62.334125  -7.52881509e+00j, 56.54915962-2.14720726e+00j,\n",
       "       63.9682054 -3.79056397e+00j, 62.26957854-6.08087282e+00j,\n",
       "       64.13771651-7.76810434e-01j, 67.40849357+1.79921549e+00j,\n",
       "       59.58209122+7.13127085e+00j, 62.12739892+5.38025676e-01j,\n",
       "       66.63742339-3.67954471e+00j, 59.7983754 +7.82702177e-01j,\n",
       "       64.57870886-1.50560359e+00j, 70.3547029 +3.13900245e+00j,\n",
       "       51.42349793+2.85264556e+00j, 52.27334191+1.02779234e+01j,\n",
       "       59.51237544+4.62727320e-01j, 60.58155878-1.21540753e-01j,\n",
       "       61.14758705-5.73551970e+00j, 65.77601163-1.62315842e+00j,\n",
       "       68.26305975-6.32397494e+00j, 64.7853687 +1.42560814e+00j,\n",
       "       61.11704104-6.49858474e+00j, 59.33763832+6.63807494e-01j,\n",
       "       55.47159035-3.72497456e-01j, 54.63616691+2.34026149e-02j,\n",
       "       70.67467187-3.95458567e+00j, 63.45228345+6.76861032e+00j,\n",
       "       62.25878958-6.79462277e+00j, 60.0280347 +1.38136526e+01j,\n",
       "       57.30747751-3.80868382e+00j, 65.06618925+5.83394942e+00j,\n",
       "       69.36994601+4.05670575e+00j, 54.1306379 -4.97355997e+00j,\n",
       "       59.88825443-8.28528105e+00j, 64.40899   +1.19856803e+01j,\n",
       "       55.38040926+5.18365220e+00j, 59.40152938-7.37399593e-01j,\n",
       "       50.11043338+3.91711829e+00j, 55.68012464-1.57246673e+00j,\n",
       "       60.51377   +1.10644151e+00j, 57.41257754+3.10858295e+00j,\n",
       "       64.79451226+7.20843009e+00j, 66.72361895-5.06587855e+00j,\n",
       "       54.54341687-4.06790204e+00j, 57.99609885-1.29990391e+00j,\n",
       "       58.42634703-6.99722827e-01j, 54.9409846 +1.60430977e+00j,\n",
       "       64.70007809-8.13113890e+00j, 57.76161723-1.02286445e+01j,\n",
       "       54.94946898-6.02145204e-01j, 66.01922398+7.05019990e+00j,\n",
       "       69.18522495-3.63253388e+00j, 56.59422013-6.75593829e+00j,\n",
       "       58.00920952+8.97829763e+00j, 57.63843446-8.57041659e+00j,\n",
       "       58.18577013-1.74262684e-01j, 64.89724693+2.76167189e+00j,\n",
       "       72.74335068+3.77434035e-01j, 58.05238027+3.26260840e+00j,\n",
       "       54.31875483+3.66631650e+00j, 61.78682004-4.75048391e+00j,\n",
       "       63.6625902 +4.76013586e+00j, 63.81194794-5.27504625e+00j,\n",
       "       58.25170858+1.12922095e+00j, 56.11191203+3.86825604e+00j,\n",
       "       66.2807032 -7.55272026e+00j, 64.08590446+1.20238928e+01j,\n",
       "       63.11608047-5.63339440e+00j, 58.04683624-1.02451564e+00j,\n",
       "       52.02309635-2.17917410e+00j, 64.91295508+2.64186731e+00j,\n",
       "       62.46475564-2.77318491e+00j, 54.88949887+3.69776998e+00j,\n",
       "       52.92872222+5.60656157e+00j, 63.94671332-1.42348126e+00j,\n",
       "       66.18892412-3.66383269e+00j, 59.16172143-1.22880452e+01j,\n",
       "       63.67612831-4.53235338e+00j, 66.14870535-6.11393408e+00j,\n",
       "       59.43465067-2.21559655e+00j, 58.33640335-2.20550796e+00j,\n",
       "       58.81883023+9.46931446e+00j, 66.31464668+5.51837120e+00j,\n",
       "       63.24045876+2.86224316e+00j, 65.16612167-6.70351670e+00j,\n",
       "       64.68006768+1.82766214e+00j, 61.69026311-2.16109643e+00j,\n",
       "       70.79159047-2.24154342e+00j, 62.58783534+3.38229579e+00j,\n",
       "       60.46236673-1.07281130e+01j, 61.00258922+1.19732429e+01j,\n",
       "       60.2888862 +3.39067495e+00j, 58.55285076-1.92326857e-01j,\n",
       "       63.39554282+8.89912952e+00j, 60.65218779-8.25004621e-02j,\n",
       "       63.53031154+4.69839231e+00j, 59.71992275-6.99529825e-01j,\n",
       "       58.22349395-1.14875569e-02j, 67.92219769-3.41762419e+00j,\n",
       "       67.67301767+2.80721026e+00j, 63.53683661-3.48247995e+00j,\n",
       "       55.48624298-5.29200252e+00j, 64.89130293-8.69751110e-01j,\n",
       "       64.53709713+6.71441135e+00j, 65.06538616-2.97693628e-02j,\n",
       "       60.89841688+1.00896383e+00j, 66.97521115+3.33674880e+00j,\n",
       "       60.38129764-3.72589392e+00j, 63.63936128+1.44186942e+00j,\n",
       "       63.56259104+5.17688192e+00j, 65.46439948+2.46986431e+00j,\n",
       "       66.73759863+8.67973536e-01j, 70.61567167+4.66799933e+00j,\n",
       "       63.83921622-1.97380396e+00j, 60.35494683+2.58042548e+00j,\n",
       "       53.25574772-5.63395661e+00j, 57.30213262+5.13371522e+00j,\n",
       "       61.79532226-4.17458128e+00j, 61.1373676 -1.42102237e+00j,\n",
       "       62.21004745-2.43710314e+00j, 58.48401586+6.00836995e+00j,\n",
       "       61.43441096-9.50809575e-01j, 56.49774863+2.65405092e+00j,\n",
       "       64.00694923-5.38335825e+00j, 66.79357052+4.73594300e+00j,\n",
       "       69.5711563 +2.57698816e+00j, 60.9912511 +1.09836652e+01j,\n",
       "       60.37852461+1.28754867e+00j, 64.14449894+5.45966483e-01j,\n",
       "       61.28688175-4.73246628e+00j, 46.24709548+6.37037857e+00j,\n",
       "       62.33825512-9.20151999e+00j, 65.75065498+8.33040643e-01j,\n",
       "       64.65820578-1.53418323e+00j, 65.85145278-8.18599489e+00j,\n",
       "       63.17289756-5.51457298e+00j, 58.47771835-2.72023415e+00j,\n",
       "       60.34683881-4.21741846e+00j, 62.52191542+3.65502917e+00j,\n",
       "       54.46829761-1.05378599e+00j, 55.00392788-8.11748937e-01j,\n",
       "       56.71952928+1.42431283e+00j, 61.62543828-2.89092197e+00j,\n",
       "       56.38486995+2.34650623e-01j, 58.13408867-3.61897731e+00j,\n",
       "       66.61559569+2.59401624e+00j, 66.44488726+3.52296398e+00j,\n",
       "       61.90367681-6.09503330e+00j, 73.33747318+2.86229205e+00j,\n",
       "       56.12158787-2.49566237e+00j, 66.93240779+1.20234865e+00j,\n",
       "       57.10263271-3.43547920e+00j, 63.33404783+4.77504549e+00j,\n",
       "       51.12786113+1.58887363e+00j, 63.785609  -1.13470782e-01j,\n",
       "       63.26049601-3.45406250e+00j, 52.27774174-1.33268439e+00j,\n",
       "       54.62351169-3.03765518e-01j, 54.74150658+2.06532546e+00j,\n",
       "       69.858352  +1.26219340e+00j, 62.051232  -4.67531760e+00j,\n",
       "       60.71508077-2.20835749e+00j, 64.96001129+2.81461966e-01j,\n",
       "       61.32731883-3.11001085e-01j, 57.59667117+2.59698962e+00j,\n",
       "       65.42300944+9.86481292e-01j, 54.12686911-1.16427558e+00j,\n",
       "       58.1960847 -7.42682563e-01j, 54.43555454-5.83047621e+00j,\n",
       "       73.75634106+7.22894815e-01j, 57.20554443+4.92776708e+00j,\n",
       "       64.62078276+5.38414853e+00j, 58.31320166-6.01400481e-01j,\n",
       "       66.35549618-7.81160095e+00j, 62.66113921-7.30636871e+00j,\n",
       "       60.18140053+2.27388070e+00j, 57.91174949-2.57123163e+00j,\n",
       "       63.27628769-7.78245149e+00j, 64.38273836+6.93566329e+00j,\n",
       "       58.05889758-1.71763580e+00j, 63.65588427+8.47177716e+00j,\n",
       "       60.87347216-3.26050305e+00j, 80.77592016+4.91456951e+00j,\n",
       "       57.8294727 -2.77424290e+00j, 59.1923382 -4.40354321e-01j,\n",
       "       62.69465024+2.70338495e+00j, 60.10107728-1.08039103e-01j,\n",
       "       61.19460004-5.09123895e-01j, 57.55625853+2.03334684e+00j,\n",
       "       63.38760715+2.24826694e-01j, 56.19706064-6.40453852e-01j,\n",
       "       71.90700474+6.45530697e+00j, 53.50896496-4.43561081e-01j,\n",
       "       61.78496009-6.00015310e+00j, 62.20547228-2.75053988e+00j,\n",
       "       60.87645304-6.52463140e-01j, 52.99255502+8.79308078e+00j,\n",
       "       61.57497575-5.42546280e+00j, 65.29233687-7.46105164e-02j,\n",
       "       57.71397965+6.35662532e-02j, 62.3165521 +5.15797784e+00j,\n",
       "       55.8455183 -2.72869689e+00j, 61.58623403-5.83506491e+00j,\n",
       "       64.35931625-2.72237072e-01j, 61.07320284-4.46063108e+00j,\n",
       "       59.77332823-5.62101286e+00j, 60.48737689-7.44046132e+00j,\n",
       "       55.47609695+4.14417812e+00j, 66.98603342-1.46071598e+00j,\n",
       "       59.14349712-1.72369355e+00j, 59.97798223+2.74725825e+00j,\n",
       "       61.72303577-7.08670376e+00j, 68.23474922-8.74708588e+00j,\n",
       "       58.08530592+8.40407705e-02j, 60.71270758-6.17698534e-01j,\n",
       "       62.00213359-5.66825466e+00j, 57.91718839+9.35108819e-02j,\n",
       "       61.62477377-7.45000464e+00j, 61.37265334-6.01063079e+00j,\n",
       "       59.87491022-4.72483347e+00j, 58.27068248-1.65170226e+00j,\n",
       "       60.08201217+4.87271520e+00j, 64.86523585-1.45837664e+00j,\n",
       "       59.28548182+7.48117722e+00j, 64.14806401-3.96712778e+00j,\n",
       "       58.53907039+2.75965684e+00j, 65.8078403 +7.04664837e-01j,\n",
       "       67.81298309+4.69962656e+00j, 64.38115069+3.16797427e+00j,\n",
       "       60.09586957+4.06664547e+00j, 58.16913942-1.15664519e+00j,\n",
       "       66.26845592-5.09429338e+00j, 60.15251973+5.32641574e+00j,\n",
       "       58.15180776-1.46088858e+00j, 61.68086061-7.66067222e-01j,\n",
       "       63.97495882-1.04574355e+01j, 61.8663487 +9.24107551e+00j,\n",
       "       70.43383823+9.00086477e+00j, 62.34310386-2.34304674e+00j,\n",
       "       65.05675453-2.24022534e+00j, 57.52690317-2.19249222e+00j,\n",
       "       63.09050907-2.70878447e+00j, 61.73618892+1.73255582e-01j,\n",
       "       63.39175099-3.50354631e-01j, 69.13683646-3.93777881e+00j,\n",
       "       55.23200639+9.57032227e-01j, 57.88574899-3.60473648e+00j,\n",
       "       67.40064733-2.44890615e+00j, 65.12413883+2.64682683e+00j,\n",
       "       59.3178241 -1.00467769e+01j, 73.03765312-1.56405452e+00j,\n",
       "       57.57384895+3.28505647e+00j, 49.54799796-4.14752175e-01j,\n",
       "       58.2278035 -1.56599759e+00j, 55.61916896+3.71575087e+00j,\n",
       "       69.16675381-6.50480453e+00j, 59.66844885+1.98758204e+00j,\n",
       "       63.11948323+2.22357793e+00j, 66.78534183-1.10223809e+00j,\n",
       "       63.38460005+8.65013988e+00j, 70.3949919 +2.41946221e+00j,\n",
       "       59.17457329+1.71932928e+00j, 62.77234222+1.83210192e-01j,\n",
       "       61.90835306-2.23526438e-01j, 78.12680871-2.77912757e+00j,\n",
       "       62.80542757-1.04489192e+00j, 68.34968687-6.08885818e+00j,\n",
       "       66.90818281-1.62391466e+00j, 66.00095695+4.01547819e+00j,\n",
       "       58.15196386-7.37816613e-01j, 55.66086765+6.02469554e+00j,\n",
       "       62.85654455-1.10748317e+00j, 50.24599469-2.25503160e+00j,\n",
       "       66.17574669+1.73958226e+00j, 61.90770247-5.54841142e+00j,\n",
       "       61.49454734-2.67225930e-01j, 62.06976442-4.76314031e+00j])"
      ]
     },
     "execution_count": 116,
     "metadata": {},
     "output_type": "execute_result"
    }
   ],
   "source": [
    "meas_vis"
   ]
  },
  {
   "cell_type": "code",
   "execution_count": 117,
   "metadata": {},
   "outputs": [],
   "source": [
    "rg_2=h5py.File('/home/zahra/PIPELINE/example_5by5_kl_nodishscatter_lmax_200/draco_synthesis_no_fluc/rand_gains/sig_2.h5','r')\n",
    "rg = rg_2['gain'][0,:,time_channel]\n",
    "gain=rg[:Ndish]"
   ]
  },
  {
   "cell_type": "code",
   "execution_count": 118,
   "metadata": {},
   "outputs": [],
   "source": [
    "x_true_real = Logcal_solutions(m,vis_new,vis_new, gain,meas_vis, sigma)[2]"
   ]
  },
  {
   "cell_type": "code",
   "execution_count": 119,
   "metadata": {},
   "outputs": [],
   "source": [
    "runs=10\n",
    "\n",
    "\n",
    "gg=np.zeros((runs,Ndish))\n",
    "for ind_run in range(runs):\n",
    "    meas_vis = Measured_vis(sigma)    \n",
    "    gg[ind_run,:] = Logcal_solutions(m,vis_new,vis_new, gain,meas_vis, sigma)[0][:Ndish]  #5 for manual noise, 8 for gaussian noise \n"
   ]
  },
  {
   "cell_type": "code",
   "execution_count": 120,
   "metadata": {},
   "outputs": [
    {
     "name": "stdout",
     "output_type": "stream",
     "text": [
      "[-3.22442073e-11 -1.13413168e-10 -6.73566758e-11 -7.89219801e-11\n",
      " -2.61305866e-10  4.32882619e-11 -1.03029918e-10 -2.25613972e-11\n",
      "  1.90125693e-11 -1.31296085e-11  7.87891974e-11  9.91304816e-11\n",
      " -8.46749337e-11 -4.63282745e-11 -5.34094990e-11  6.01076966e-11\n",
      "  1.63216329e-10 -1.79231074e-11 -1.04244391e-10 -6.74572620e-11\n",
      " -4.73963091e-11 -5.26222399e-11  1.10337961e-10 -1.56651803e-10\n",
      " -1.30448763e-10]\n",
      "[[ 0.00713372  0.01111484 -0.01009846  0.01301956  0.02029037 -0.00585175\n",
      "   0.03464198 -0.00032187 -0.03455901 -0.0240159  -0.01304126  0.02629662\n",
      "  -0.00169182 -0.00012636  0.00711584 -0.00551558 -0.03949523  0.01768589\n",
      "  -0.02173591 -0.02206993  0.01596355  0.00781322  0.03220463 -0.01256609\n",
      "  -0.00220418]\n",
      " [ 0.00712776  0.01111794 -0.01009226  0.01301861  0.0202837  -0.00584888\n",
      "   0.03464079 -0.00031662 -0.03455091 -0.02401972 -0.01304483  0.02629399\n",
      "  -0.00168991 -0.00012565  0.00712299 -0.00551414 -0.03948903  0.01769662\n",
      "  -0.02173829 -0.02206755  0.01595879  0.00781107  0.03220534 -0.01255846\n",
      "  -0.00221395]\n",
      " [ 0.00712872  0.0111196  -0.01009393  0.01302028  0.02028751 -0.00584555\n",
      "   0.03463793 -0.00031567 -0.034554   -0.02401781 -0.01305437  0.02629113\n",
      "  -0.00168848 -0.00013232  0.00711679 -0.00551653 -0.03949952  0.01768923\n",
      "  -0.02174306 -0.02207661  0.01596308  0.00781703  0.03220224 -0.01256347\n",
      "  -0.00221109]\n",
      " [ 0.00713396  0.01111865 -0.01009369  0.01302361  0.02028465 -0.00584507\n",
      "   0.03463578 -0.00032234 -0.03454804 -0.02401972 -0.01304865  0.02629805\n",
      "  -0.00169778 -0.00012875  0.00711489 -0.00551367 -0.0394907   0.0176878\n",
      "  -0.02174568 -0.02206945  0.01595926  0.00780773  0.0322032  -0.01256609\n",
      "  -0.00220585]\n",
      " [ 0.007128    0.01111197 -0.01009822  0.01302099  0.02028704 -0.00584793\n",
      "   0.03463984 -0.00031996 -0.03455877 -0.02402139 -0.01304817  0.02628899\n",
      "  -0.00169277 -0.00013781  0.00710821 -0.00551796 -0.03948855  0.01769328\n",
      "  -0.02174234 -0.02207184  0.01595736  0.00781059  0.03220463 -0.01256394\n",
      "  -0.00221634]\n",
      " [ 0.00712347  0.0111146  -0.01009512  0.01302457  0.02029037 -0.00584865\n",
      "   0.03464508 -0.00031447 -0.03454971 -0.02401304 -0.01304865  0.0262959\n",
      "  -0.00169134 -0.00012493  0.00711513 -0.00551462 -0.03948665  0.01769304\n",
      "  -0.02173328 -0.02207017  0.01595259  0.00781655  0.03220367 -0.01255822\n",
      "  -0.00220895]\n",
      " [ 0.00713491  0.0111146  -0.01009297  0.01302314  0.02028584 -0.00584364\n",
      "   0.0346427  -0.00032687 -0.03455329 -0.02400827 -0.01304102  0.02628827\n",
      "  -0.0017004  -0.00013423  0.00712037 -0.00550318 -0.03949332  0.01768303\n",
      "  -0.02173686 -0.02207232  0.01596832  0.00781274  0.03220844 -0.01256704\n",
      "  -0.00221157]\n",
      " [ 0.00714064  0.01112914 -0.01008916  0.01302767  0.02029037 -0.00584579\n",
      "   0.03464556 -0.00031853 -0.03455043 -0.02400804 -0.01304483  0.0262897\n",
      "  -0.00169134 -0.00013423  0.00712037 -0.00551486 -0.03949118  0.0176909\n",
      "  -0.02173996 -0.02206969  0.0159626   0.00781798  0.03220463 -0.01255965\n",
      "  -0.00220585]\n",
      " [ 0.00713277  0.01112175 -0.01009631  0.01302075  0.02028799 -0.00584269\n",
      "   0.03464222 -0.00031996 -0.03454733 -0.0240097  -0.01304388  0.02630067\n",
      "  -0.00169659 -0.00013423  0.00711823 -0.00551414 -0.03949308  0.01768827\n",
      "  -0.02174449 -0.02206779  0.01596236  0.00781298  0.03220963 -0.01256299\n",
      "  -0.00221014]\n",
      " [ 0.00713062  0.01111937 -0.0100987   0.01302075  0.02028751 -0.00584817\n",
      "   0.03463364 -0.00032616 -0.03455019 -0.02401638 -0.01303864  0.02629352\n",
      "  -0.0016942  -0.00012922  0.00711489 -0.00552011 -0.03949499  0.01768661\n",
      "  -0.02173924 -0.0220685   0.01595974  0.00780702  0.03221035 -0.01256227\n",
      "  -0.00221944]]\n"
     ]
    }
   ],
   "source": [
    "print x_true_real[:Ndish]\n",
    "print gg"
   ]
  },
  {
   "cell_type": "code",
   "execution_count": 121,
   "metadata": {},
   "outputs": [
    {
     "name": "stdout",
     "output_type": "stream",
     "text": [
      "0.015455876428236143 0.011476395907837618\n"
     ]
    }
   ],
   "source": [
    "gg_logcal, sim_gains_logcal = gg, x_true_real[:Ndish]\n",
    "def gains_mean_and_rel_err(gg,sim_gains_amp):\n",
    "    gain_std=(np.std(gg,axis=0)/np.sqrt(runs)).flatten()\n",
    "    gain_mean=np.mean(gg,axis=0).flatten() #shape is 98, we take every second one for amp so shape is 49\n",
    "    rec_gains_mean_amp=gain_mean\n",
    "    rec_gains_std_amp=gain_std\n",
    "    rel_err_amp=np.abs(rec_gains_mean_amp-sim_gains_amp)/(sim_gains_amp)\n",
    "    rel_err_amp_mean=np.mean(rel_err_amp)\n",
    "    rel_err_amp_std=np.std(rel_err_amp,ddof=1)\n",
    "    return rec_gains_mean_amp, rec_gains_std_amp, rel_err_amp, rel_err_amp_mean, rel_err_amp_std\n",
    "\n",
    "rec_gains_mean_amp_2,_,rel_err_amp_2, rel_err_amp_mean_2 ,rel_err_amp_std_2 = gains_mean_and_rel_err(np.exp(gg_logcal),np.exp(sim_gains_logcal))\n",
    "#rec_gains_mean_amp_2,_,rel_err_amp_2, rel_err_amp_mean_2 ,rel_err_amp_std_2 = gains_mean_and_rel_err(gg_logcal,1+sim_gains_logcal)\n",
    "\n",
    "print rel_err_amp_mean_2, rel_err_amp_std_2"
   ]
  },
  {
   "cell_type": "code",
   "execution_count": 122,
   "metadata": {},
   "outputs": [
    {
     "data": {
      "image/png": "[encoded data removed]",
      "text/plain": [
       "<Figure size 432x288 with 1 Axes>"
      ]
     },
     "metadata": {},
     "output_type": "display_data"
    }
   ],
   "source": [
    "fig, ax = plt.subplots()\n",
    "\n",
    "ax.scatter(np.exp(sim_gains_logcal),rec_gains_mean_amp_2)\n",
    "#ax.plot(lims, lims,'g')\n",
    "#plt.errorbar(x_true_real[:Ndish,time_channel],x_rec_real[:Ndish,time_channel],xerr=None,yerr=error[:Ndish],linestyle=\"None\")\n",
    "plt.xlabel('Simulated gains')\n",
    "plt.ylabel('Recovered gains')\n",
    "lim=.002\n",
    "#plt.ylim(0.998,1.02)\n",
    "#plt.savefig('avgd_recgains_vs_simgains_logcal_5by5_nogainfluc_Tsys_50_pt1_dish_scatter')\n",
    "\n",
    "plt.show()"
   ]
  },
  {
   "cell_type": "code",
   "execution_count": 123,
   "metadata": {},
   "outputs": [],
   "source": [
    "def hist_rel_err_mean_std_logcal(gg,sim_gains_amp):\n",
    "    gg_amp=gg\n",
    "    rel_error=(np.abs(gg_amp-sim_gains_amp))/(sim_gains_amp)\n",
    "    gg_amp_mean=np.mean(rel_error,axis=1) #shape is number of runs\n",
    "    gg_amp_std=np.std(rel_error,axis=1, ddof=1)\n",
    "    return gg_amp_std, gg_amp_mean\n",
    "\n",
    "def hist_rel_err_mean_std(gg,sim_gains_amp):\n",
    "    gg_amp=gg[:,0::2]\n",
    "    rel_error=np.abs((gg_amp-sim_gains_amp))/sim_gains_amp\n",
    "    gg_amp_mean=np.mean(rel_error,axis=1) #shape is number of runs\n",
    "    gg_amp_std=np.std(rel_error,axis=1,ddof=1)\n",
    "    return gg_amp_std, gg_amp_mean\n"
   ]
  },
  {
   "cell_type": "code",
   "execution_count": 124,
   "metadata": {
    "scrolled": true
   },
   "outputs": [
    {
     "data": {
      "image/png": "[encoded data removed]",
      "text/plain": [
       "<Figure size 432x288 with 1 Axes>"
      ]
     },
     "metadata": {},
     "output_type": "display_data"
    }
   ],
   "source": [
    "std, mean=hist_rel_err_mean_std_logcal(np.exp(gg_logcal),np.exp(sim_gains_logcal))\n",
    "plt.hist(std,'auto',color='g')\n",
    "#plt.hist(gg_amp_std_1m_logcal,'auto',color='g')\n",
    "plt.xlabel('Standard deviation')\n",
    "#plt.title('Logcal')\n",
    "#plt.savefig('std_hist_logcal_5by5_nogainfluc_Tsys_50_pt1_dish_scatter')\n",
    "plt.show()"
   ]
  },
  {
   "cell_type": "code",
   "execution_count": 125,
   "metadata": {},
   "outputs": [
    {
     "data": {
      "image/png": "[encoded data removed]",
      "text/plain": [
       "<Figure size 432x288 with 1 Axes>"
      ]
     },
     "metadata": {},
     "output_type": "display_data"
    }
   ],
   "source": [
    "plt.hist(mean,'auto',color='g')\n",
    "#plt.hist(gg_amp_std_1m_logcal,'auto',color='g')\n",
    "plt.xlabel('Standard deviation')\n",
    "#plt.title('Logcal')\n",
    "#plt.savefig('std_hist_logcal_5by5_nogainfluc_Tsys_50_pt1_dish_scatter')\n",
    "plt.show()"
   ]
  },
  {
   "cell_type": "code",
   "execution_count": null,
   "metadata": {},
   "outputs": [],
   "source": []
  }
 ],
 "metadata": {
  "kernelspec": {
   "display_name": "Python 2",
   "language": "python",
   "name": "python2"
  },
  "language_info": {
   "codemirror_mode": {
    "name": "ipython",
    "version": 2
   },
   "file_extension": ".py",
   "mimetype": "text/x-python",
   "name": "python",
   "nbconvert_exporter": "python",
   "pygments_lexer": "ipython2",
   "version": "2.7.15"
  }
 },
 "nbformat": 4,
 "nbformat_minor": 2
}
