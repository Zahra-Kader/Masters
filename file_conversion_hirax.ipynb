{
 "cells": [
  {
   "cell_type": "code",
   "execution_count": 1,
   "metadata": {},
   "outputs": [],
   "source": [
    "import h5py \n",
    "import numpy as np\n",
    "import matplotlib.pyplot as plt"
   ]
  },
  {
   "cell_type": "markdown",
   "metadata": {},
   "source": [
    "This code basically takes your visibility data in the shape ($N_{times},N_{freq},N_{correlations}$) and rearranges it so that it is in the required shape ($N_{blts},N_{spws},N_{freq},N_{pol}$). This requires taking the vis data and reorganising it according to dish correlations and polarisations in the order (xx,yy,xy,yx)."
   ]
  },
  {
   "cell_type": "code",
   "execution_count": 2,
   "metadata": {},
   "outputs": [],
   "source": [
    "\n",
    "\n",
    "#This function is used to find the array index corresponding to a given (a,b) input\n",
    "#and is used for the prod array in the hirax file (['index_map/prod']).\n",
    "def orig_array_ind(orig_array,a,b):\n",
    "    ind = np.argwhere((orig_array['input_a'] == a) & (orig_array['input_b'] == b))[0][0]\n",
    "    return ind\n",
    "\n",
    "def index_array(function,orig_array):\n",
    "    row,col=function.shape\n",
    "    flat=np.ndarray.flatten(function)\n",
    "    indices=np.array([])\n",
    "    for i in flat:\n",
    "        a,b=i[0],i[1]\n",
    "        index=orig_array_ind(orig_array,a,b)\n",
    "        indices=np.append(indices,index)\n",
    "    indices=np.reshape(indices,(row,col))\n",
    "    return indices\n",
    "\n",
    "\n",
    "def Vis_reshape(prod_array,Ndish):\n",
    "    Nbls_full=np.int((Ndish*(Ndish-1)/2)+Ndish) #with autos\n",
    "    Nbls_cross=np.int((Ndish*(Ndish-1)/2)) #without autos\n",
    "    Nfeeds=Ndish*2\n",
    "    array_even=np.array([],[('input_a', '<u2'), ('input_b', '<u2')])\n",
    "    for i in prod_array:\n",
    "        if i[0]%2==0:\n",
    "            array_even_single=i\n",
    "            array_even=np.append(array_even,array_even_single)\n",
    "    array_even=np.reshape(array_even,(Nbls_full,2))\n",
    "    array_odd_auto=np.array([],[('input_a', '<u2'), ('input_b', '<u2')])\n",
    "    for m in prod_array:\n",
    "        if m[0]%2==1:\n",
    "            if m[0]==m[1]:\n",
    "                array_odd_auto_single=m\n",
    "                array_odd_auto=np.append(array_odd_auto,array_odd_auto_single)\n",
    "                array_odd_auto=array_odd_auto[:,np.newaxis]\n",
    "    array_even_auto=np.array([],[('input_a', '<u2'), ('input_b', '<u2')])\n",
    "    for x in array_even:\n",
    "        if x[0][0]==x[0][1]:\n",
    "            array_even_auto_single=x\n",
    "            array_even_auto=np.append(array_even_auto,array_even_auto_single)\n",
    "    array_even_auto=np.reshape(array_even_auto,(Ndish,2))\n",
    "    array_even_auto=np.hstack((array_even_auto,array_odd_auto))\n",
    "    permutation=[0,2,1]\n",
    "    array_even_auto=array_even_auto[:,permutation]\n",
    "    array_even_auto_indices=index_array(array_even_auto,prod_array)\n",
    "    #array_even=np.append(array_even,)\n",
    "    array_even_cross=np.array([],[('input_a', '<u2'), ('input_b', '<u2')])\n",
    "    for x in array_even:\n",
    "        if x[0][0]!=x[0][1]:\n",
    "            array_even_cross_single=x\n",
    "            array_even_cross=np.append(array_even_cross,array_even_cross_single)\n",
    "    array_even_cross=np.reshape(array_even_cross,(Nbls_cross,2))\n",
    "    #array_even_cross=np.hstack((array_even_cross,array_odd_auto))\n",
    "    #print (array_new)\n",
    "    array_odd=np.array([],[('input_a', '<u2'), ('input_b', '<u2')])\n",
    "    for j in prod_array:\n",
    "        if j[0]%2==1:\n",
    "            if j[0]!=j[1]:\n",
    "                array_odd_single=j\n",
    "                array_odd=np.append(array_odd,array_odd_single)\n",
    "    array_odd=np.reshape(array_odd,(Nbls_cross,2))\n",
    "    array_even_cross=np.hstack((array_even_cross,array_odd))\n",
    "    permutation = [0,3,1,2]\n",
    "    array_even_cross=array_even_cross[:,permutation]\n",
    "    array_even_cross_indices=index_array(array_even_cross,prod_array)\n",
    "    auto_flatten=np.ndarray.flatten(array_even_auto_indices)\n",
    "    cross_flatten=np.ndarray.flatten(array_even_cross_indices)\n",
    "    vis_permutation_array=np.concatenate((auto_flatten,cross_flatten))\n",
    "    vis_permutation_array=vis_permutation_array.astype(int)\n",
    "    vis_permutation_list=np.ndarray.tolist(vis_permutation_array)\n",
    "    return vis_permutation_list\n",
    "\n",
    "def vis_auto_conj(vis_data_rearranged,index):\n",
    "    col = vis_data_rearranged[:,:,index]\n",
    "\n",
    "    #cojugate column\n",
    "    #to conjugate x value set ind=0, to conjugate y value set ind=1\n",
    "    ind = 1\n",
    "    col_flat = col.flatten()\n",
    "    col_conj = np.copy(col_flat)\n",
    "\n",
    "    for i in range(len(col_flat)):\n",
    "        col_conj[i][ind] = -1*col_flat[i][ind]\t\n",
    "        #col_conj[i] = np.conj(col_flat[i][ind])\n",
    "\n",
    "    col_conj = col_conj.reshape(col.shape)\n",
    "\n",
    "    #insert column in A (np.insert is surprisingly uselful)\n",
    "    col_pos = index+1\n",
    "    vis_data_rearranged = np.insert(vis_data_rearranged,col_pos,col_conj,axis=2)\n",
    "    return vis_data_rearranged"
   ]
  },
  {
   "cell_type": "code",
   "execution_count": 3,
   "metadata": {},
   "outputs": [],
   "source": [
    "file_hirax=h5py.File('00197942_0000.h5','r')"
   ]
  },
  {
   "cell_type": "code",
   "execution_count": 4,
   "metadata": {},
   "outputs": [
    {
     "data": {
      "text/plain": [
       "['flags', 'fpga_hk', 'gain_coeff', 'gain_exp', 'index_map', 'vis']"
      ]
     },
     "execution_count": 4,
     "metadata": {},
     "output_type": "execute_result"
    }
   ],
   "source": [
    "list(file_hirax.keys())"
   ]
  },
  {
   "cell_type": "code",
   "execution_count": 5,
   "metadata": {},
   "outputs": [
    {
     "data": {
      "text/plain": [
       "<HDF5 dataset \"freq\": shape (1024,), type \"|V16\">"
      ]
     },
     "execution_count": 5,
     "metadata": {},
     "output_type": "execute_result"
    }
   ],
   "source": [
    "file_hirax['index_map']['freq']"
   ]
  },
  {
   "cell_type": "code",
   "execution_count": 6,
   "metadata": {},
   "outputs": [],
   "source": [
    "prod=file_hirax['index_map']['prod']\n",
    "vis=file_hirax['vis']"
   ]
  },
  {
   "cell_type": "code",
   "execution_count": 31,
   "metadata": {},
   "outputs": [],
   "source": [
    "permutation=Vis_reshape(prod,8)"
   ]
  },
  {
   "cell_type": "code",
   "execution_count": 33,
   "metadata": {},
   "outputs": [],
   "source": [
    "vis_perm=[]\n",
    "for i in permutation:\n",
    "    vis_perm.append(np.transpose(vis[:,:,i]))\n",
    "new_vis_data=np.array(vis_perm).T\n",
    "#np.save('vis_permutated',new_vis_data)"
   ]
  },
  {
   "cell_type": "code",
   "execution_count": 36,
   "metadata": {},
   "outputs": [
    {
     "name": "stdout",
     "output_type": "stream",
     "text": [
      "[[[( 205499841,          0) ( 205520896,          0)\n",
      "   (-205494765,          0) ... ( 205520896,          0)\n",
      "   ( 205520896,          0) ( 205520896,          0)]\n",
      "  [( 180702779,          0) ( 192602956,          0)\n",
      "   (  22001410,    6313121) ... (  31500001,    3925715)\n",
      "   (   8669628,   -2637173) (   8346638,   -4439090)]\n",
      "  [( 181353988,          0) ( 147019567,          0)\n",
      "   (   -728743,   -1754895) ... (  39587966,   -8770685)\n",
      "   (  -8077423,    4579756) (   3359686,    1425725)]\n",
      "  ...\n",
      "  [( 383242321,          0) ( 379744023,          0)\n",
      "   ( 353331305,    4685238) ... (-125180318,  -85989107)\n",
      "   ( -34563028,   85937092) (  14525125,  -35211290)]\n",
      "  [( 263239166,          0) ( 155939434,          0)\n",
      "   (  41458808,  -22056999) ... ( -34779409,   -5762383)\n",
      "   (   5913309,    1858770) (   2856294,   -2134633)]\n",
      "  [( 259882133,          0) ( 169546446,          0)\n",
      "   (  36099208,  -13486379) ... ( -14206807,    4380581)\n",
      "   (   -746723,   -1516934) (   5230595,    3095044)]]\n",
      "\n",
      " [[( 205508762,          0) ( 205520896,          0)\n",
      "   (-205506182,          0) ... ( 205520896,          0)\n",
      "   ( 205520896,          0) ( 205520700,          0)]\n",
      "  [( 181726660,          0) ( 192556250,          0)\n",
      "   (  22100365,    6326531) ... (  31090645,    3928265)\n",
      "   (   9130330,   -2428496) (   7128714,   -4794905)]\n",
      "  [( 182307723,          0) ( 147153046,          0)\n",
      "   (   -790564,   -1734504) ... (  39159188,   -8461238)\n",
      "   (  -7352693,    4377176) (   2516609,    1355204)]\n",
      "  ...\n",
      "  [( 382733438,          0) ( 379752547,          0)\n",
      "   ( 352504647,    1411889) ... (-130265192,  -88072441)\n",
      "   ( -35041667,   89669972) (  15390741,  -35248686)]\n",
      "  [( 263308427,          0) ( 156093698,          0)\n",
      "   (  40831545,  -21958344) ... ( -34326396,   -5229784)\n",
      "   (   5476649,    1585096) (   2104067,   -2175940)]\n",
      "  [( 260084657,          0) ( 169674455,          0)\n",
      "   (  36040123,  -13407393) ... ( -13845454,    4398067)\n",
      "   (   -983057,   -1370064) (   4386707,    3609576)]]\n",
      "\n",
      " [[( 205493806,          0) ( 205520896,          0)\n",
      "   (-205486974,          0) ... ( 205520896,          0)\n",
      "   ( 205520896,          0) ( 205520882,          0)]\n",
      "  [( 180459725,          0) ( 192946240,          0)\n",
      "   (  21862957,    6393865) ... (  29753114,    3856897)\n",
      "   (   9011556,   -2673709) (   8658249,   -4114973)]\n",
      "  [( 180836237,          0) ( 147614595,          0)\n",
      "   (   -733922,   -1711078) ... (  37752030,   -8851788)\n",
      "   (  -6572410,    4254545) (   4296741,     952036)]\n",
      "  ...\n",
      "  [( 382630064,          0) ( 379547750,          0)\n",
      "   ( 352434897,    3821337) ... (-134531974,  -89137226)\n",
      "   ( -34042126,   93463093) (  15775445,  -34604623)]\n",
      "  [( 262838869,          0) ( 155992480,          0)\n",
      "   (  41407698,  -21841235) ... ( -32571427,   -5462647)\n",
      "   (   4972703,    1501261) (   3750516,   -1636905)]\n",
      "  [( 259502275,          0) ( 169804870,          0)\n",
      "   (  35758811,  -13552979) ... ( -12103183,    4177125)\n",
      "   (   -984554,   -1337483) (   5613493,    2925601)]]\n",
      "\n",
      " ...\n",
      "\n",
      " [[( 205518687,          0) ( 205520896,          0)\n",
      "   (-205518383,          0) ... ( 205520896,          0)\n",
      "   ( 205520896,          0) ( 205520896,          0)]\n",
      "  [( 188636799,          0) ( 192306660,          0)\n",
      "   (  23168238,    6346132) ... (  30914248,    4769016)\n",
      "   (   7059958,    -455736) (   6551355,   -4354240)]\n",
      "  [( 191160492,          0) ( 145129379,          0)\n",
      "   (   -421734,   -2098838) ... (  34347345,   -8699080)\n",
      "   ( -11701893,    6085353) (   3673052,     565767)]\n",
      "  ...\n",
      "  [( 384990478,          0) ( 379027805,          0)\n",
      "   ( 351092657,   19453259) ... (-142731975, -105716494)\n",
      "   ( -25733321,   79886038) (  17111793,  -34131594)]\n",
      "  [( 292344607,          0) ( 268178973,          0)\n",
      "   (  29311786,  116666495) ... ( -24504765,  -10247256)\n",
      "   (   6884808,    1433012) (   2822858,   -2301691)]\n",
      "  [( 261473790,          0) ( 160308857,          0)\n",
      "   (  31027765,   -9001895) ... ( -10518015,    4976093)\n",
      "   (  -2257803,     145174) (   3562340,    3086033)]]\n",
      "\n",
      " [[( 205515738,          0) ( 205520896,          0)\n",
      "   (-205514806,          0) ... ( 205520896,          0)\n",
      "   ( 205520896,          0) ( 205520896,          0)]\n",
      "  [( 185038027,          0) ( 192199893,          0)\n",
      "   (  22534043,    6522119) ... (  31333963,    5280098)\n",
      "   (   8408375,    -921743) (   8139199,   -4604461)]\n",
      "  [( 187063398,          0) ( 145273636,          0)\n",
      "   (   -435957,   -1857662) ... (  36370878,   -8432867)\n",
      "   (  -8454678,    5471155) (   4339376,     571401)]\n",
      "  ...\n",
      "  [( 385097901,          0) ( 379268986,          0)\n",
      "   ( 351132299,   21300760) ... (-136708176, -101343847)\n",
      "   ( -28518030,   87141244) (  16618749,  -33502736)]\n",
      "  [( 291532144,          0) ( 267309693,          0)\n",
      "   (  29766476,  116089439) ... ( -27048776,   -9822661)\n",
      "   (   4778478,    1168002) (   3261424,   -2227872)]\n",
      "  [( 260327206,          0) ( 160363944,          0)\n",
      "   (  31321475,   -9105497) ... ( -11571264,    5626360)\n",
      "   (  -1294398,    -305992) (   4867286,    3392461)]]\n",
      "\n",
      " [[( 205517018,          0) ( 205520896,          0)\n",
      "   (-205516626,          0) ... ( 205520896,          0)\n",
      "   ( 205520896,          0) ( 205520896,          0)]\n",
      "  [( 188044965,          0) ( 192229651,          0)\n",
      "   (  23189420,    6291413) ... (  30868471,    4779424)\n",
      "   (   7494872,   -1251928) (   7128046,   -4718531)]\n",
      "  [( 190477940,          0) ( 145212150,          0)\n",
      "   (   -394758,   -2098599) ... (  35334689,   -8549188)\n",
      "   ( -11721309,    5962903) (   3144709,     576712)]\n",
      "  ...\n",
      "  [( 384871996,          0) ( 379388774,          0)\n",
      "   ( 349937065,   23872738) ... (-141156866, -105440066)\n",
      "   ( -26622111,   80733808) (  16128824,  -33161387)]\n",
      "  [( 291842997,          0) ( 266876891,          0)\n",
      "   (  29763506,  113552260) ... ( -25237690,   -9747893)\n",
      "   (   7159356,    1527068) (   2088154,   -2200994)]\n",
      "  [( 261203339,          0) ( 160872669,          0)\n",
      "   (  31443901,   -9269975) ... ( -10452410,    5137749)\n",
      "   (  -2563679,    -426873) (   4127364,    3509357)]]]\n"
     ]
    }
   ],
   "source": [
    "new_vis_data=np.load('vis_permutated.npy')\n",
    "Ndish=8\n",
    "new_vis_data_0=vis_auto_conj(new_vis_data,2)\n",
    "new_vis_data_1=vis_auto_conj(new_vis_data_0,6)\n",
    "new_vis_data_2=vis_auto_conj(new_vis_data_1,10)\n",
    "new_vis_data_3=vis_auto_conj(new_vis_data_2,14)\n",
    "new_vis_data_4=vis_auto_conj(new_vis_data_3,18)\n",
    "new_vis_data_5=vis_auto_conj(new_vis_data_4,22)\n",
    "new_vis_data_6=vis_auto_conj(new_vis_data_5,26)\n",
    "new_vis_data_7=vis_auto_conj(new_vis_data_6,30)\n",
    "print (new_vis_data_7)\n",
    "#np.save('hirax_vis_full',new_vis_data_7)\n"
   ]
  },
  {
   "cell_type": "code",
   "execution_count": 22,
   "metadata": {},
   "outputs": [],
   "source": [
    "vis_full=np.load('hirax_vis_full.npy')\n",
    "vis_final=np.reshape(vis_full,(1024*36,1,1024,4))\n",
    "#np.save('vis_final',vis_final)"
   ]
  },
  {
   "cell_type": "code",
   "execution_count": 26,
   "metadata": {},
   "outputs": [
    {
     "name": "stdout",
     "output_type": "stream",
     "text": [
      "(36864, 1, 1024, 4)\n"
     ]
    }
   ],
   "source": [
    "vis_final=np.load('vis_final.npy')\n",
    "print (vis_final.shape)"
   ]
  },
  {
   "cell_type": "code",
   "execution_count": 7,
   "metadata": {},
   "outputs": [
    {
     "name": "stdout",
     "output_type": "stream",
     "text": [
      "(2, 2, 3)\n",
      "[[[(101,  1) (102,  2) (103,  3)]\n",
      "  [(104,  4) (105,  5) (106,  6)]]\n",
      "\n",
      " [[(107,  7) (108,  8) (109,  9)]\n",
      "  [(110, 10) (111, 11) (112, 12)]]]\n"
     ]
    }
   ],
   "source": [
    "mat=np.array([(101,1),(102,2),(103,3),(104,4),(105,5),(106,6),(107,7),(108,8),(109,9),(110,10),(111,11),(112,12)],[('input_a', '<i4'), ('input_b', '<i4')])\n",
    "mat=np.reshape(mat,(2,2,3))\n",
    "print (mat.shape)\n",
    "print (mat)\n",
    "#np.save('temp_mat',mat)\n",
    "#np.load('temp_mat.npy')"
   ]
  },
  {
   "cell_type": "code",
   "execution_count": 5,
   "metadata": {},
   "outputs": [
    {
     "name": "stdout",
     "output_type": "stream",
     "text": [
      "<class 'list'>\n"
     ]
    }
   ],
   "source": [
    "permutation=[0,2,1]\n",
    "print (type(permutation))"
   ]
  },
  {
   "cell_type": "code",
   "execution_count": 6,
   "metadata": {},
   "outputs": [
    {
     "data": {
      "text/plain": [
       "array([[[(101,  1), (103,  3), (102,  2)],\n",
       "        [(104,  4), (106,  6), (105,  5)]],\n",
       "\n",
       "       [[(107,  7), (109,  9), (108,  8)],\n",
       "        [(110, 10), (112, 12), (111, 11)]]],\n",
       "      dtype=[('input_a', '<i4'), ('input_b', '<i4')])"
      ]
     },
     "execution_count": 6,
     "metadata": {},
     "output_type": "execute_result"
    }
   ],
   "source": [
    "mat[:,:,permutation]"
   ]
  },
  {
   "cell_type": "code",
   "execution_count": 7,
   "metadata": {},
   "outputs": [
    {
     "name": "stdout",
     "output_type": "stream",
     "text": [
      "[[[(101,  1) (103,  3) (102,  2)]\n",
      "  [(104,  4) (106,  6) (105,  5)]]\n",
      "\n",
      " [[(107,  7) (109,  9) (108,  8)]\n",
      "  [(110, 10) (112, 12) (111, 11)]]]\n"
     ]
    }
   ],
   "source": [
    "mat_perm=[]\n",
    "for i in permutation:\n",
    "    mat_perm.append(np.transpose(mat[:,:,i]))\n",
    "print (np.array(mat_perm).T)\n",
    "    #for j in range(0,3):\n",
    "     #   print (j)\n",
    "      #  print (mat_perm[:,:,j])\n",
    "       # mat_perm[:,:,j]=mat[:,:,i]"
   ]
  },
  {
   "cell_type": "code",
   "execution_count": 19,
   "metadata": {},
   "outputs": [
    {
     "name": "stdout",
     "output_type": "stream",
     "text": [
      "[[[(101,   1) (101,  -1) (102,   2) (102,  -2) (103,   3) (103,  -3)]\n",
      "  [(104,   4) (104,  -4) (105,   5) (105,  -5) (106,   6) (106,  -6)]]\n",
      "\n",
      " [[(107,   7) (107,  -7) (108,   8) (108,  -8) (109,   9) (109,  -9)]\n",
      "  [(110,  10) (110, -10) (111,  11) (111, -11) (112,  12) (112, -12)]]]\n",
      "[[[(101,   1) (101,  -1) (102,   2)]]\n",
      "\n",
      " [[(104,   4) (104,  -4) (105,   5)]]\n",
      "\n",
      " [[(107,   7) (107,  -7) (108,   8)]]\n",
      "\n",
      " [[(110,  10) (110, -10) (111,  11)]]]\n"
     ]
    }
   ],
   "source": [
    "j=0\n",
    "mat_new=vis_auto_conj(mat,j)\n",
    "mat_new_2=vis_auto_conj(mat_new,j+2)\n",
    "mat_new_3=vis_auto_conj(mat_new_2,j+4)\n",
    "print (mat_new_3)\n",
    "mat_new_3=np.reshape(mat_new_3,(2*2,1,2,3))\n",
    "#plt.imshow(mat_new_3[:,:,1]['input_a'])\n",
    "print (mat_new_3[:,:,0])"
   ]
  },
  {
   "cell_type": "code",
   "execution_count": null,
   "metadata": {},
   "outputs": [],
   "source": []
  },
  {
   "cell_type": "code",
   "execution_count": 158,
   "metadata": {},
   "outputs": [],
   "source": [
    "v1=np.array([(0,13),(0,14),(0,15),(0,16)],dtype=[('input_a', 'float'), ('input_b', 'float')])"
   ]
  },
  {
   "cell_type": "code",
   "execution_count": 73,
   "metadata": {},
   "outputs": [],
   "source": [
    "v1=np.reshape(v1,(2,2))"
   ]
  },
  {
   "cell_type": "code",
   "execution_count": 164,
   "metadata": {},
   "outputs": [
    {
     "name": "stdout",
     "output_type": "stream",
     "text": [
      "[[[(101,   1) (102,   2) (102,  -2) (103,   3)]\n",
      "  [(104,   4) (105,   5) (105,  -5) (106,   6)]]\n",
      "\n",
      " [[(107,   7) (108,   8) (108,  -8) (109,   9)]\n",
      "  [(110,  10) (111,  11) (111, -11) (112,  12)]]]\n"
     ]
    }
   ],
   "source": []
  },
  {
   "cell_type": "code",
   "execution_count": 28,
   "metadata": {},
   "outputs": [],
   "source": [
    "file_hirax.close()"
   ]
  },
  {
   "cell_type": "code",
   "execution_count": 51,
   "metadata": {},
   "outputs": [],
   "source": [
    "file_tmp=h5py.File('temp_file','w')"
   ]
  },
  {
   "cell_type": "code",
   "execution_count": 54,
   "metadata": {},
   "outputs": [],
   "source": [
    "g1=file_tmp.create_group('group1')"
   ]
  },
  {
   "cell_type": "code",
   "execution_count": 60,
   "metadata": {},
   "outputs": [
    {
     "data": {
      "text/plain": [
       "['group1']"
      ]
     },
     "execution_count": 60,
     "metadata": {},
     "output_type": "execute_result"
    }
   ],
   "source": [
    "list(file_tmp.keys())"
   ]
  },
  {
   "cell_type": "code",
   "execution_count": 59,
   "metadata": {},
   "outputs": [],
   "source": [
    "del file_tmp['gr1']"
   ]
  },
  {
   "cell_type": "code",
   "execution_count": 61,
   "metadata": {},
   "outputs": [],
   "source": [
    "del file_tmp['group1']"
   ]
  },
  {
   "cell_type": "code",
   "execution_count": 62,
   "metadata": {},
   "outputs": [],
   "source": [
    "g1=file_tmp.create_group('group1/real')"
   ]
  },
  {
   "cell_type": "code",
   "execution_count": 63,
   "metadata": {},
   "outputs": [],
   "source": [
    "g2=file_tmp.create_group('group1/imag')"
   ]
  },
  {
   "cell_type": "code",
   "execution_count": 76,
   "metadata": {},
   "outputs": [
    {
     "data": {
      "text/plain": [
       "<HDF5 dataset \"data_1\": shape (2, 2, 3), type \"<u2\">"
      ]
     },
     "execution_count": 76,
     "metadata": {},
     "output_type": "execute_result"
    }
   ],
   "source": [
    "g1.create_dataset('data_1',data=a)"
   ]
  },
  {
   "cell_type": "code",
   "execution_count": 77,
   "metadata": {},
   "outputs": [
    {
     "data": {
      "text/plain": [
       "<HDF5 dataset \"data_2\": shape (2, 2, 3), type \"<u2\">"
      ]
     },
     "execution_count": 77,
     "metadata": {},
     "output_type": "execute_result"
    }
   ],
   "source": [
    "g2.create_dataset('data_2',data=b)"
   ]
  },
  {
   "cell_type": "code",
   "execution_count": 82,
   "metadata": {},
   "outputs": [
    {
     "data": {
      "text/plain": [
       "['data_2']"
      ]
     },
     "execution_count": 82,
     "metadata": {},
     "output_type": "execute_result"
    }
   ],
   "source": [
    "list(file_tmp['group1']['imag'])"
   ]
  },
  {
   "cell_type": "code",
   "execution_count": 83,
   "metadata": {},
   "outputs": [],
   "source": [
    "del file_tmp['group1/imag/data_2']"
   ]
  },
  {
   "cell_type": "code",
   "execution_count": 84,
   "metadata": {},
   "outputs": [],
   "source": [
    "del file_tmp['group1/imag']"
   ]
  },
  {
   "cell_type": "code",
   "execution_count": 86,
   "metadata": {},
   "outputs": [],
   "source": [
    "del file_tmp['group1/real/data_1']"
   ]
  },
  {
   "cell_type": "code",
   "execution_count": 97,
   "metadata": {},
   "outputs": [
    {
     "ename": "KeyError",
     "evalue": "\"Couldn't delete link (callback link pointer is NULL (specified link may be '.' or not exist))\"",
     "output_type": "error",
     "traceback": [
      "\u001b[0;31m---------------------------------------------------------------------------\u001b[0m",
      "\u001b[0;31mKeyError\u001b[0m                                  Traceback (most recent call last)",
      "\u001b[0;32m<ipython-input-97-351dcd345e2c>\u001b[0m in \u001b[0;36m<module>\u001b[0;34m\u001b[0m\n\u001b[0;32m----> 1\u001b[0;31m \u001b[0;32mdel\u001b[0m \u001b[0mfile_tmp\u001b[0m\u001b[0;34m[\u001b[0m\u001b[0;34m'group1/real'\u001b[0m\u001b[0;34m]\u001b[0m\u001b[0;34m\u001b[0m\u001b[0;34m\u001b[0m\u001b[0m\n\u001b[0m",
      "\u001b[0;32mh5py/_objects.pyx\u001b[0m in \u001b[0;36mh5py._objects.with_phil.wrapper\u001b[0;34m()\u001b[0m\n",
      "\u001b[0;32mh5py/_objects.pyx\u001b[0m in \u001b[0;36mh5py._objects.with_phil.wrapper\u001b[0;34m()\u001b[0m\n",
      "\u001b[0;32m~/anaconda3/lib/python3.7/site-packages/h5py/_hl/group.py\u001b[0m in \u001b[0;36m__delitem__\u001b[0;34m(self, name)\u001b[0m\n\u001b[1;32m    311\u001b[0m     \u001b[0;32mdef\u001b[0m \u001b[0m__delitem__\u001b[0m\u001b[0;34m(\u001b[0m\u001b[0mself\u001b[0m\u001b[0;34m,\u001b[0m \u001b[0mname\u001b[0m\u001b[0;34m)\u001b[0m\u001b[0;34m:\u001b[0m\u001b[0;34m\u001b[0m\u001b[0;34m\u001b[0m\u001b[0m\n\u001b[1;32m    312\u001b[0m         \u001b[0;34m\"\"\" Delete (unlink) an item from this group. \"\"\"\u001b[0m\u001b[0;34m\u001b[0m\u001b[0;34m\u001b[0m\u001b[0m\n\u001b[0;32m--> 313\u001b[0;31m         \u001b[0mself\u001b[0m\u001b[0;34m.\u001b[0m\u001b[0mid\u001b[0m\u001b[0;34m.\u001b[0m\u001b[0munlink\u001b[0m\u001b[0;34m(\u001b[0m\u001b[0mself\u001b[0m\u001b[0;34m.\u001b[0m\u001b[0m_e\u001b[0m\u001b[0;34m(\u001b[0m\u001b[0mname\u001b[0m\u001b[0;34m)\u001b[0m\u001b[0;34m)\u001b[0m\u001b[0;34m\u001b[0m\u001b[0;34m\u001b[0m\u001b[0m\n\u001b[0m\u001b[1;32m    314\u001b[0m \u001b[0;34m\u001b[0m\u001b[0m\n\u001b[1;32m    315\u001b[0m     \u001b[0;34m@\u001b[0m\u001b[0mwith_phil\u001b[0m\u001b[0;34m\u001b[0m\u001b[0;34m\u001b[0m\u001b[0m\n",
      "\u001b[0;32mh5py/_objects.pyx\u001b[0m in \u001b[0;36mh5py._objects.with_phil.wrapper\u001b[0;34m()\u001b[0m\n",
      "\u001b[0;32mh5py/_objects.pyx\u001b[0m in \u001b[0;36mh5py._objects.with_phil.wrapper\u001b[0;34m()\u001b[0m\n",
      "\u001b[0;32mh5py/h5g.pyx\u001b[0m in \u001b[0;36mh5py.h5g.GroupID.unlink\u001b[0;34m()\u001b[0m\n",
      "\u001b[0;31mKeyError\u001b[0m: \"Couldn't delete link (callback link pointer is NULL (specified link may be '.' or not exist))\""
     ]
    }
   ],
   "source": [
    "del file_tmp['group1/real']"
   ]
  },
  {
   "cell_type": "code",
   "execution_count": 96,
   "metadata": {},
   "outputs": [
    {
     "ename": "RuntimeError",
     "evalue": "Unable to create link (name already exists)",
     "output_type": "error",
     "traceback": [
      "\u001b[0;31m---------------------------------------------------------------------------\u001b[0m",
      "\u001b[0;31mRuntimeError\u001b[0m                              Traceback (most recent call last)",
      "\u001b[0;32m<ipython-input-96-93a9058cb13f>\u001b[0m in \u001b[0;36m<module>\u001b[0;34m\u001b[0m\n\u001b[0;32m----> 1\u001b[0;31m \u001b[0mg1\u001b[0m\u001b[0;34m.\u001b[0m\u001b[0mcreate_dataset\u001b[0m\u001b[0;34m(\u001b[0m\u001b[0;34m'real'\u001b[0m\u001b[0;34m,\u001b[0m\u001b[0mdata\u001b[0m\u001b[0;34m=\u001b[0m\u001b[0ma\u001b[0m\u001b[0;34m)\u001b[0m\u001b[0;34m\u001b[0m\u001b[0;34m\u001b[0m\u001b[0m\n\u001b[0m",
      "\u001b[0;32m~/anaconda3/lib/python3.7/site-packages/h5py/_hl/group.py\u001b[0m in \u001b[0;36mcreate_dataset\u001b[0;34m(self, name, shape, dtype, data, **kwds)\u001b[0m\n\u001b[1;32m    117\u001b[0m             \u001b[0mdset\u001b[0m \u001b[0;34m=\u001b[0m \u001b[0mdataset\u001b[0m\u001b[0;34m.\u001b[0m\u001b[0mDataset\u001b[0m\u001b[0;34m(\u001b[0m\u001b[0mdsid\u001b[0m\u001b[0;34m)\u001b[0m\u001b[0;34m\u001b[0m\u001b[0;34m\u001b[0m\u001b[0m\n\u001b[1;32m    118\u001b[0m             \u001b[0;32mif\u001b[0m \u001b[0mname\u001b[0m \u001b[0;32mis\u001b[0m \u001b[0;32mnot\u001b[0m \u001b[0;32mNone\u001b[0m\u001b[0;34m:\u001b[0m\u001b[0;34m\u001b[0m\u001b[0;34m\u001b[0m\u001b[0m\n\u001b[0;32m--> 119\u001b[0;31m                 \u001b[0mself\u001b[0m\u001b[0;34m[\u001b[0m\u001b[0mname\u001b[0m\u001b[0;34m]\u001b[0m \u001b[0;34m=\u001b[0m \u001b[0mdset\u001b[0m\u001b[0;34m\u001b[0m\u001b[0;34m\u001b[0m\u001b[0m\n\u001b[0m\u001b[1;32m    120\u001b[0m             \u001b[0;32mreturn\u001b[0m \u001b[0mdset\u001b[0m\u001b[0;34m\u001b[0m\u001b[0;34m\u001b[0m\u001b[0m\n\u001b[1;32m    121\u001b[0m \u001b[0;34m\u001b[0m\u001b[0m\n",
      "\u001b[0;32m~/anaconda3/lib/python3.7/site-packages/h5py/_hl/group.py\u001b[0m in \u001b[0;36m__setitem__\u001b[0;34m(self, name, obj)\u001b[0m\n\u001b[1;32m    285\u001b[0m \u001b[0;34m\u001b[0m\u001b[0m\n\u001b[1;32m    286\u001b[0m             \u001b[0;32mif\u001b[0m \u001b[0misinstance\u001b[0m\u001b[0;34m(\u001b[0m\u001b[0mobj\u001b[0m\u001b[0;34m,\u001b[0m \u001b[0mHLObject\u001b[0m\u001b[0;34m)\u001b[0m\u001b[0;34m:\u001b[0m\u001b[0;34m\u001b[0m\u001b[0;34m\u001b[0m\u001b[0m\n\u001b[0;32m--> 287\u001b[0;31m                 \u001b[0mh5o\u001b[0m\u001b[0;34m.\u001b[0m\u001b[0mlink\u001b[0m\u001b[0;34m(\u001b[0m\u001b[0mobj\u001b[0m\u001b[0;34m.\u001b[0m\u001b[0mid\u001b[0m\u001b[0;34m,\u001b[0m \u001b[0mself\u001b[0m\u001b[0;34m.\u001b[0m\u001b[0mid\u001b[0m\u001b[0;34m,\u001b[0m \u001b[0mname\u001b[0m\u001b[0;34m,\u001b[0m \u001b[0mlcpl\u001b[0m\u001b[0;34m=\u001b[0m\u001b[0mlcpl\u001b[0m\u001b[0;34m,\u001b[0m \u001b[0mlapl\u001b[0m\u001b[0;34m=\u001b[0m\u001b[0mself\u001b[0m\u001b[0;34m.\u001b[0m\u001b[0m_lapl\u001b[0m\u001b[0;34m)\u001b[0m\u001b[0;34m\u001b[0m\u001b[0;34m\u001b[0m\u001b[0m\n\u001b[0m\u001b[1;32m    288\u001b[0m \u001b[0;34m\u001b[0m\u001b[0m\n\u001b[1;32m    289\u001b[0m             \u001b[0;32melif\u001b[0m \u001b[0misinstance\u001b[0m\u001b[0;34m(\u001b[0m\u001b[0mobj\u001b[0m\u001b[0;34m,\u001b[0m \u001b[0mSoftLink\u001b[0m\u001b[0;34m)\u001b[0m\u001b[0;34m:\u001b[0m\u001b[0;34m\u001b[0m\u001b[0;34m\u001b[0m\u001b[0m\n",
      "\u001b[0;32mh5py/_objects.pyx\u001b[0m in \u001b[0;36mh5py._objects.with_phil.wrapper\u001b[0;34m()\u001b[0m\n",
      "\u001b[0;32mh5py/_objects.pyx\u001b[0m in \u001b[0;36mh5py._objects.with_phil.wrapper\u001b[0;34m()\u001b[0m\n",
      "\u001b[0;32mh5py/h5o.pyx\u001b[0m in \u001b[0;36mh5py.h5o.link\u001b[0;34m()\u001b[0m\n",
      "\u001b[0;31mRuntimeError\u001b[0m: Unable to create link (name already exists)"
     ]
    }
   ],
   "source": [
    "g1.create_dataset('real',data=a)"
   ]
  },
  {
   "cell_type": "code",
   "execution_count": 89,
   "metadata": {},
   "outputs": [
    {
     "data": {
      "text/plain": [
       "<HDF5 dataset (\"anonymous\"): shape (2, 2, 3), type \"<u2\">"
      ]
     },
     "execution_count": 89,
     "metadata": {},
     "output_type": "execute_result"
    }
   ],
   "source": [
    "g1.create_dataset('imag',data=a)"
   ]
  },
  {
   "cell_type": "code",
   "execution_count": 98,
   "metadata": {},
   "outputs": [
    {
     "data": {
      "text/plain": [
       "[]"
      ]
     },
     "execution_count": 98,
     "metadata": {},
     "output_type": "execute_result"
    }
   ],
   "source": [
    "list(file_tmp['group1'])"
   ]
  },
  {
   "cell_type": "code",
   "execution_count": null,
   "metadata": {},
   "outputs": [],
   "source": []
  }
 ],
 "metadata": {
  "kernelspec": {
   "display_name": "Python 3",
   "language": "python",
   "name": "python3"
  },
  "language_info": {
   "codemirror_mode": {
    "name": "ipython",
    "version": 3
   },
   "file_extension": ".py",
   "mimetype": "text/x-python",
   "name": "python",
   "nbconvert_exporter": "python",
   "pygments_lexer": "ipython3",
   "version": "3.7.1"
  }
 },
 "nbformat": 4,
 "nbformat_minor": 2
}
